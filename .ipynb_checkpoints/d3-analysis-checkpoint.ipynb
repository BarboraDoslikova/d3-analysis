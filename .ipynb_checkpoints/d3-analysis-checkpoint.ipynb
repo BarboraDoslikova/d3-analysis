{
 "cells": [
  {
   "cell_type": "markdown",
   "metadata": {},
   "source": [
    "<h1>Analysis of the activity in the awesome D3.js GitHub repository</h1>\n",
    "<h2>By Barbora Doslikova</h2>"
   ]
  },
  {
   "cell_type": "markdown",
   "metadata": {},
   "source": [
    "<h3>Questions & Answers:</h3>\n",
    "1. What week in the last year had the greatest number of commits?<br>\n",
    "The week starting 2015-02-06 (6th Feb 2015).<br>\n",
    "<br>\n",
    "2. *extra credit* Graph the number of commits each week in the last year.<br>\n",
    "See below.<br>\n",
    "<br>\n",
    "3. *extra credit* Are more commits into Mike's D3 repo done by him (the owner) or by others?<br>\n",
    "By Mike.<br>\n",
    "<br>\n",
    "4. *extra credit* Visualise the commits by Mike versus others.<br>\n",
    "See below.<br>\n",
    "<br>\n",
    "5. *extra credit* Over the last year, what day of the week had the most commits?<br>\n",
    "Saturday. But it was tight!<br>\n",
    "<br>\n",
    "6. *extra credit* Visualise what day of the week had the most commits.<br>\n",
    "See below."
   ]
  },
  {
   "cell_type": "markdown",
   "metadata": {},
   "source": [
    "<h3>Data:</h3>\n",
    "Source: D3.js GitHub repository owned by mbostock https://github.com/mbostock/d3.<br>\n",
    "Downloaded on: 2015-11-27 Friday.<br>\n",
    "Cmd commands:<br>\n",
    "\"curl https://api.github.com/repos/mbostock/d3/stats/participation > d3_participation.txt\" for the number of contributions to the repository by all contributors per week in the last year,<br>\n",
    "\"curl https://api.github.com/repos/mbostock/d3/stats/commit_activity > d3_commit_activity.txt\" for the last year of commit activity grouped by week, where the days array is a group of commits per day starting on Sunday."
   ]
  },
  {
   "cell_type": "markdown",
   "metadata": {},
   "source": [
    "Requires: json, pandas, datetime, matplotlib"
   ]
  },
  {
   "cell_type": "markdown",
   "metadata": {},
   "source": [
    "<h3>Q1. What week in the last year had the greatest number of commits?</h3>"
   ]
  },
  {
   "cell_type": "code",
   "execution_count": 37,
   "metadata": {
    "collapsed": false
   },
   "outputs": [],
   "source": [
    "import json\n",
    "\n",
    "# Load data.\n",
    "f = open(\"d3_participation.txt\")\n",
    "data = json.load(f)  # Is an object."
   ]
  },
  {
   "cell_type": "code",
   "execution_count": 38,
   "metadata": {
    "collapsed": false
   },
   "outputs": [
    {
     "name": "stdout",
     "output_type": "stream",
     "text": [
      "   contr\n",
      "0      3\n",
      "1     15\n",
      "2      0\n",
      "3      2\n",
      "4      2\n",
      "    contr\n",
      "47     14\n",
      "48      3\n",
      "49      8\n",
      "50      2\n",
      "51      0\n"
     ]
    }
   ],
   "source": [
    "import pandas as pd\n",
    "\n",
    "# Work with df for easy calculations and plotting.\n",
    "df = pd.DataFrame()\n",
    "\n",
    "# Total contributions per week in the last year (=52 weeks).\n",
    "# The array order is oldest week (index 0) to most recent week.\n",
    "df[\"contr\"] = data[u'all']\n",
    "\n",
    "# Visualise to check for mistakes.\n",
    "print df.head()\n",
    "print df.tail()"
   ]
  },
  {
   "cell_type": "code",
   "execution_count": 25,
   "metadata": {
    "collapsed": false
   },
   "outputs": [
    {
     "name": "stdout",
     "output_type": "stream",
     "text": [
      "   contr  week\n",
      "0      3     1\n",
      "1     15     2\n",
      "2      0     3\n",
      "3      2     4\n",
      "4      2     5\n",
      "    contr  week\n",
      "47     14    48\n",
      "48      3    49\n",
      "49      8    50\n",
      "50      2    51\n",
      "51      0    52\n"
     ]
    }
   ],
   "source": [
    "# Create a list from 1 to 52 to better index the contributions per week.\n",
    "def weeks():\n",
    "    no_of_weeks = []\n",
    "    counter = 0\n",
    "    for week in range(1,53):\n",
    "        counter = counter + 1\n",
    "        no_of_weeks.append(counter)\n",
    "    return no_of_weeks\n",
    "\n",
    "df[\"week\"] = weeks()\n",
    "# Visualise to check for mistakes.\n",
    "print df.head()\n",
    "print df.tail()"
   ]
  },
  {
   "cell_type": "code",
   "execution_count": 26,
   "metadata": {
    "collapsed": false
   },
   "outputs": [
    {
     "name": "stdout",
     "output_type": "stream",
     "text": [
      "   contr  week  date_ord\n",
      "0      3     1    735565\n",
      "1     15     2    735572\n",
      "2      0     3    735579\n",
      "3      2     4    735586\n",
      "4      2     5    735593\n",
      "    contr  week  date_ord\n",
      "47     14    48    735894\n",
      "48      3    49    735901\n",
      "49      8    50    735908\n",
      "50      2    51    735915\n",
      "51      0    52    735922\n"
     ]
    }
   ],
   "source": [
    "import datetime\n",
    "\n",
    "# Create a list of dates in ordinals\n",
    "# to index the contributions per week.\n",
    "def generate_ordinals():    \n",
    "    dates = []\n",
    "    # Ensure that result is the same each time the script is run. \n",
    "    DOWNLOAD_DATE = datetime.date(2015, 11, 27)\n",
    "    DOWNLOAD_DATE_ORD = DOWNLOAD_DATE.toordinal() # Equals 735929\n",
    "    for week in range(1,53):        \n",
    "        one_week_ago = DOWNLOAD_DATE_ORD - 7\n",
    "        dates.append(one_week_ago)\n",
    "        DOWNLOAD_DATE_ORD = DOWNLOAD_DATE_ORD - 7\n",
    "    return dates\n",
    "\n",
    "dates = generate_ordinals()\n",
    "rev_dates = list(reversed(dates))\n",
    "df[\"date_ord\"] = rev_dates\n",
    "# Visualise to check for mistakes.\n",
    "print df.head()\n",
    "print df.tail()"
   ]
  },
  {
   "cell_type": "code",
   "execution_count": 27,
   "metadata": {
    "collapsed": false
   },
   "outputs": [
    {
     "name": "stdout",
     "output_type": "stream",
     "text": [
      "   contr  week  date_ord        date\n",
      "0      3     1    735565  2014-11-28\n",
      "1     15     2    735572  2014-12-05\n",
      "2      0     3    735579  2014-12-12\n",
      "3      2     4    735586  2014-12-19\n",
      "4      2     5    735593  2014-12-26\n",
      "    contr  week  date_ord        date\n",
      "47     14    48    735894  2015-10-23\n",
      "48      3    49    735901  2015-10-30\n",
      "49      8    50    735908  2015-11-06\n",
      "50      2    51    735915  2015-11-13\n",
      "51      0    52    735922  2015-11-20\n"
     ]
    }
   ],
   "source": [
    "# Create a list of dates from ordinals.\n",
    "def ord_to_date(rev_dates):\n",
    "    match_dates = []\n",
    "    for each in rev_dates:\n",
    "        p = datetime.date.fromordinal(each)\n",
    "        match_dates.append(p)\n",
    "    return match_dates\n",
    "\n",
    "df[\"date\"] = ord_to_date(rev_dates)\n",
    "# Visualise to check for mistakes.\n",
    "print df.head()\n",
    "print df.tail()"
   ]
  },
  {
   "cell_type": "code",
   "execution_count": 28,
   "metadata": {
    "collapsed": false
   },
   "outputs": [
    {
     "name": "stdout",
     "output_type": "stream",
     "text": [
      "contr               31\n",
      "week                11\n",
      "date_ord        735635\n",
      "date        2015-02-06\n",
      "Name: 10, dtype: object\n"
     ]
    }
   ],
   "source": [
    "# Find the weeks with the highest number of contributions.\n",
    "max_contr_info = df.loc[df[\"contr\"].idxmax()]\n",
    "print max_contr_info"
   ]
  },
  {
   "cell_type": "markdown",
   "metadata": {},
   "source": [
    "<h3>A1. The week starting 2015-02-06 (6th Feb 2015) had the greatest number of commits in the last year.</h3>"
   ]
  },
  {
   "cell_type": "markdown",
   "metadata": {},
   "source": [
    "<h3>Q2. *extra credit* Graph the number of commits each week in the last year.</h3>"
   ]
  },
  {
   "cell_type": "code",
   "execution_count": 29,
   "metadata": {
    "collapsed": false
   },
   "outputs": [
    {
     "data": {
      "text/plain": [
       "<matplotlib.text.Text at 0xd9f6c18>"
      ]
     },
     "execution_count": 29,
     "metadata": {},
     "output_type": "execute_result"
    },
    {
     "data": {
      "image/png": "[encoded data removed]",
      "text/plain": [
       "<matplotlib.figure.Figure at 0xccc4240>"
      ]
     },
     "metadata": {},
     "output_type": "display_data"
    }
   ],
   "source": [
    "import matplotlib\n",
    "import matplotlib.pyplot as plt\n",
    "matplotlib.style.use(\"ggplot\")\n",
    "%matplotlib inline \n",
    "\n",
    "df2 = pd.DataFrame()\n",
    "df2[\"date\"] = df[\"date\"]\n",
    "df2[\"contr\"] = df[\"contr\"]\n",
    "\n",
    "ax = df2.plot(kind=\"bar\", x=\"date\")\n",
    "ax.set_ylabel(\"number of contributions\")"
   ]
  },
  {
   "cell_type": "code",
   "execution_count": 30,
   "metadata": {
    "collapsed": false,
    "scrolled": true
   },
   "outputs": [
    {
     "data": {
      "text/html": [
       "\n",
       "    <div class=\"bk-root\">\n",
       "        <a href=\"http://bokeh.pydata.org\" target=\"_blank\" class=\"bk-logo bk-logo-small bk-logo-notebook\"></a>\n",
       "        <span id=\"6fd21ec3-4614-4b6b-b921-11fd6b68abcd\">Loading BokehJS ...</span>\n",
       "    </div>"
      ]
     },
     "metadata": {},
     "output_type": "display_data"
    },
    {
     "data": {
      "application/javascript": [
       "\n",
       "(function(global) {\n",
       "  function now() {\n",
       "    return new Date();\n",
       "  }\n",
       "\n",
       "  var force = true;\n",
       "\n",
       "  if (typeof (window._bokeh_onload_callbacks) === \"undefined\" || force === true) {\n",
       "    window._bokeh_onload_callbacks = [];\n",
       "    window._bokeh_is_loading = undefined;\n",
       "  }\n",
       "\n",
       "\n",
       "  \n",
       "  if (typeof (window._bokeh_timeout) === \"undefined\" || force === true) {\n",
       "    window._bokeh_timeout = Date.now() + 5000;\n",
       "    window._bokeh_failed_load = false;\n",
       "  }\n",
       "\n",
       "  var NB_LOAD_WARNING = {'data': {'text/html':\n",
       "     \"<div style='background-color: #fdd'>\\n\"+\n",
       "     \"<p>\\n\"+\n",
       "     \"BokehJS does not appear to have successfully loaded. If loading BokehJS from CDN, this \\n\"+\n",
       "     \"may be due to a slow or bad network connection. Possible fixes:\\n\"+\n",
       "     \"</p>\\n\"+\n",
       "     \"<ul>\\n\"+\n",
       "     \"<li>re-rerun `output_notebook()` to attempt to load from CDN again, or</li>\\n\"+\n",
       "     \"<li>use INLINE resources instead, as so:</li>\\n\"+\n",
       "     \"</ul>\\n\"+\n",
       "     \"<code>\\n\"+\n",
       "     \"from bokeh.resources import INLINE\\n\"+\n",
       "     \"output_notebook(resources=INLINE)\\n\"+\n",
       "     \"</code>\\n\"+\n",
       "     \"</div>\"}};\n",
       "\n",
       "  function display_loaded() {\n",
       "    if (window.Bokeh !== undefined) {\n",
       "      document.getElementById(\"6fd21ec3-4614-4b6b-b921-11fd6b68abcd\").textContent = \"BokehJS successfully loaded.\";\n",
       "    } else if (Date.now() < window._bokeh_timeout) {\n",
       "      setTimeout(display_loaded, 100)\n",
       "    }\n",
       "  }\n",
       "\n",
       "  function run_callbacks() {\n",
       "    window._bokeh_onload_callbacks.forEach(function(callback) { callback() });\n",
       "    delete window._bokeh_onload_callbacks\n",
       "    console.info(\"Bokeh: all callbacks have finished\");\n",
       "  }\n",
       "\n",
       "  function load_libs(js_urls, callback) {\n",
       "    window._bokeh_onload_callbacks.push(callback);\n",
       "    if (window._bokeh_is_loading > 0) {\n",
       "      console.log(\"Bokeh: BokehJS is being loaded, scheduling callback at\", now());\n",
       "      return null;\n",
       "    }\n",
       "    if (js_urls == null || js_urls.length === 0) {\n",
       "      run_callbacks();\n",
       "      return null;\n",
       "    }\n",
       "    console.log(\"Bokeh: BokehJS not loaded, scheduling load and callback at\", now());\n",
       "    window._bokeh_is_loading = js_urls.length;\n",
       "    for (var i = 0; i < js_urls.length; i++) {\n",
       "      var url = js_urls[i];\n",
       "      var s = document.createElement('script');\n",
       "      s.src = url;\n",
       "      s.async = false;\n",
       "      s.onreadystatechange = s.onload = function() {\n",
       "        window._bokeh_is_loading--;\n",
       "        if (window._bokeh_is_loading === 0) {\n",
       "          console.log(\"Bokeh: all BokehJS libraries loaded\");\n",
       "          run_callbacks()\n",
       "        }\n",
       "      };\n",
       "      s.onerror = function() {\n",
       "        console.warn(\"failed to load library \" + url);\n",
       "      };\n",
       "      console.log(\"Bokeh: injecting script tag for BokehJS library: \", url);\n",
       "      document.getElementsByTagName(\"head\")[0].appendChild(s);\n",
       "    }\n",
       "  };var element = document.getElementById(\"6fd21ec3-4614-4b6b-b921-11fd6b68abcd\");\n",
       "  if (element == null) {\n",
       "    console.log(\"Bokeh: ERROR: autoload.js configured with elementid '6fd21ec3-4614-4b6b-b921-11fd6b68abcd' but no matching script tag was found. \")\n",
       "    return false;\n",
       "  }\n",
       "\n",
       "  var js_urls = [\"https://cdn.pydata.org/bokeh/release/bokeh-0.12.4.min.js\", \"https://cdn.pydata.org/bokeh/release/bokeh-widgets-0.12.4.min.js\"];\n",
       "\n",
       "  var inline_js = [\n",
       "    function(Bokeh) {\n",
       "      Bokeh.set_log_level(\"info\");\n",
       "    },\n",
       "    \n",
       "    function(Bokeh) {\n",
       "      \n",
       "      document.getElementById(\"6fd21ec3-4614-4b6b-b921-11fd6b68abcd\").textContent = \"BokehJS is loading...\";\n",
       "    },\n",
       "    function(Bokeh) {\n",
       "      console.log(\"Bokeh: injecting CSS: https://cdn.pydata.org/bokeh/release/bokeh-0.12.4.min.css\");\n",
       "      Bokeh.embed.inject_css(\"https://cdn.pydata.org/bokeh/release/bokeh-0.12.4.min.css\");\n",
       "      console.log(\"Bokeh: injecting CSS: https://cdn.pydata.org/bokeh/release/bokeh-widgets-0.12.4.min.css\");\n",
       "      Bokeh.embed.inject_css(\"https://cdn.pydata.org/bokeh/release/bokeh-widgets-0.12.4.min.css\");\n",
       "    }\n",
       "  ];\n",
       "\n",
       "  function run_inline_js() {\n",
       "    \n",
       "    if ((window.Bokeh !== undefined) || (force === true)) {\n",
       "      for (var i = 0; i < inline_js.length; i++) {\n",
       "        inline_js[i](window.Bokeh);\n",
       "      }if (force === true) {\n",
       "        display_loaded();\n",
       "      }} else if (Date.now() < window._bokeh_timeout) {\n",
       "      setTimeout(run_inline_js, 100);\n",
       "    } else if (!window._bokeh_failed_load) {\n",
       "      console.log(\"Bokeh: BokehJS failed to load within specified timeout.\");\n",
       "      window._bokeh_failed_load = true;\n",
       "    } else if (force !== true) {\n",
       "      var cell = $(document.getElementById(\"6fd21ec3-4614-4b6b-b921-11fd6b68abcd\")).parents('.cell').data().cell;\n",
       "      cell.output_area.append_execute_result(NB_LOAD_WARNING)\n",
       "    }\n",
       "\n",
       "  }\n",
       "\n",
       "  if (window._bokeh_is_loading === 0) {\n",
       "    console.log(\"Bokeh: BokehJS loaded, going straight to plotting\");\n",
       "    run_inline_js();\n",
       "  } else {\n",
       "    load_libs(js_urls, function() {\n",
       "      console.log(\"Bokeh: BokehJS plotting callback run at\", now());\n",
       "      run_inline_js();\n",
       "    });\n",
       "  }\n",
       "}(this));"
      ]
     },
     "metadata": {},
     "output_type": "display_data"
    },
    {
     "data": {
      "text/html": [
       "\n",
       "\n",
       "    <div class=\"bk-root\">\n",
       "        <div class=\"bk-plotdiv\" id=\"31670955-aaf0-47e5-8a90-d8bef0f37a78\"></div>\n",
       "    </div>\n",
       "<script type=\"text/javascript\">\n",
       "  \n",
       "  (function(global) {\n",
       "    function now() {\n",
       "      return new Date();\n",
       "    }\n",
       "  \n",
       "    var force = false;\n",
       "  \n",
       "    if (typeof (window._bokeh_onload_callbacks) === \"undefined\" || force === true) {\n",
       "      window._bokeh_onload_callbacks = [];\n",
       "      window._bokeh_is_loading = undefined;\n",
       "    }\n",
       "  \n",
       "  \n",
       "    \n",
       "    if (typeof (window._bokeh_timeout) === \"undefined\" || force === true) {\n",
       "      window._bokeh_timeout = Date.now() + 0;\n",
       "      window._bokeh_failed_load = false;\n",
       "    }\n",
       "  \n",
       "    var NB_LOAD_WARNING = {'data': {'text/html':\n",
       "       \"<div style='background-color: #fdd'>\\n\"+\n",
       "       \"<p>\\n\"+\n",
       "       \"BokehJS does not appear to have successfully loaded. If loading BokehJS from CDN, this \\n\"+\n",
       "       \"may be due to a slow or bad network connection. Possible fixes:\\n\"+\n",
       "       \"</p>\\n\"+\n",
       "       \"<ul>\\n\"+\n",
       "       \"<li>re-rerun `output_notebook()` to attempt to load from CDN again, or</li>\\n\"+\n",
       "       \"<li>use INLINE resources instead, as so:</li>\\n\"+\n",
       "       \"</ul>\\n\"+\n",
       "       \"<code>\\n\"+\n",
       "       \"from bokeh.resources import INLINE\\n\"+\n",
       "       \"output_notebook(resources=INLINE)\\n\"+\n",
       "       \"</code>\\n\"+\n",
       "       \"</div>\"}};\n",
       "  \n",
       "    function display_loaded() {\n",
       "      if (window.Bokeh !== undefined) {\n",
       "        document.getElementById(\"31670955-aaf0-47e5-8a90-d8bef0f37a78\").textContent = \"BokehJS successfully loaded.\";\n",
       "      } else if (Date.now() < window._bokeh_timeout) {\n",
       "        setTimeout(display_loaded, 100)\n",
       "      }\n",
       "    }\n",
       "  \n",
       "    function run_callbacks() {\n",
       "      window._bokeh_onload_callbacks.forEach(function(callback) { callback() });\n",
       "      delete window._bokeh_onload_callbacks\n",
       "      console.info(\"Bokeh: all callbacks have finished\");\n",
       "    }\n",
       "  \n",
       "    function load_libs(js_urls, callback) {\n",
       "      window._bokeh_onload_callbacks.push(callback);\n",
       "      if (window._bokeh_is_loading > 0) {\n",
       "        console.log(\"Bokeh: BokehJS is being loaded, scheduling callback at\", now());\n",
       "        return null;\n",
       "      }\n",
       "      if (js_urls == null || js_urls.length === 0) {\n",
       "        run_callbacks();\n",
       "        return null;\n",
       "      }\n",
       "      console.log(\"Bokeh: BokehJS not loaded, scheduling load and callback at\", now());\n",
       "      window._bokeh_is_loading = js_urls.length;\n",
       "      for (var i = 0; i < js_urls.length; i++) {\n",
       "        var url = js_urls[i];\n",
       "        var s = document.createElement('script');\n",
       "        s.src = url;\n",
       "        s.async = false;\n",
       "        s.onreadystatechange = s.onload = function() {\n",
       "          window._bokeh_is_loading--;\n",
       "          if (window._bokeh_is_loading === 0) {\n",
       "            console.log(\"Bokeh: all BokehJS libraries loaded\");\n",
       "            run_callbacks()\n",
       "          }\n",
       "        };\n",
       "        s.onerror = function() {\n",
       "          console.warn(\"failed to load library \" + url);\n",
       "        };\n",
       "        console.log(\"Bokeh: injecting script tag for BokehJS library: \", url);\n",
       "        document.getElementsByTagName(\"head\")[0].appendChild(s);\n",
       "      }\n",
       "    };var element = document.getElementById(\"31670955-aaf0-47e5-8a90-d8bef0f37a78\");\n",
       "    if (element == null) {\n",
       "      console.log(\"Bokeh: ERROR: autoload.js configured with elementid '31670955-aaf0-47e5-8a90-d8bef0f37a78' but no matching script tag was found. \")\n",
       "      return false;\n",
       "    }\n",
       "  \n",
       "    var js_urls = [];\n",
       "  \n",
       "    var inline_js = [\n",
       "      function(Bokeh) {\n",
       "        (function() {\n",
       "          var fn = function() {\n",
       "            var docs_json = {\"e3906b1a-3266-458b-84de-386623b217d9\":{\"roots\":{\"references\":[{\"attributes\":{\"fill_alpha\":{\"field\":\"fill_alpha\"},\"fill_color\":{\"field\":\"color\"},\"height\":{\"field\":\"height\",\"units\":\"data\"},\"line_color\":{\"field\":\"line_color\"},\"width\":{\"field\":\"width\",\"units\":\"data\"},\"x\":{\"field\":\"x\"},\"y\":{\"field\":\"y\"}},\"id\":\"9ab5077c-5725-45c6-8ab6-9d0acd77411e\",\"type\":\"Rect\"},{\"attributes\":{\"plot\":{\"id\":\"04787d6d-3008-4576-87ae-d4e453f6aa39\",\"subtype\":\"Chart\",\"type\":\"Plot\"}},\"id\":\"2f1b23e6-6337-46b2-9055-c88eb17675ce\",\"type\":\"SaveTool\"},{\"attributes\":{\"data_source\":{\"id\":\"ebd45561-e2c7-451c-9b44-d0b1c039c20d\",\"type\":\"ColumnDataSource\"},\"glyph\":{\"id\":\"42644aed-e34f-4629-ae27-cb49f5e02f8e\",\"type\":\"Rect\"},\"hover_glyph\":null,\"nonselection_glyph\":null,\"selection_glyph\":null},\"id\":\"50e19ba7-54d0-4d61-be08-15192f873870\",\"type\":\"GlyphRenderer\"},{\"attributes\":{\"callback\":null,\"column_names\":[\"line_color\",\"line_alpha\",\"color\",\"fill_alpha\",\"height\",\"width\",\"y\",\"x\",\"label\"],\"data\":{\"chart_index\":[{\"date\":1424991600000.0}],\"color\":[\"#f22c40\"],\"date\":[1424991600000.0],\"fill_alpha\":[0.8],\"height\":[0.0],\"label\":[{\"date\":1424991600000.0}],\"line_alpha\":[1.0],\"line_color\":[\"white\"],\"width\":[0.8],\"x\":[\"2015-02-27\"],\"y\":[0.0]}},\"id\":\"1c2f1b0e-b057-4530-a755-c690067a3247\",\"type\":\"ColumnDataSource\"},{\"attributes\":{\"data_source\":{\"id\":\"e891477e-5496-460c-94e4-d51889750675\",\"type\":\"ColumnDataSource\"},\"glyph\":{\"id\":\"1505d44b-0adf-4cf3-bdda-77c0f0aa3289\",\"type\":\"Rect\"},\"hover_glyph\":null,\"nonselection_glyph\":null,\"selection_glyph\":null},\"id\":\"32926894-394f-4add-a6a0-1e4ea9c4a023\",\"type\":\"GlyphRenderer\"},{\"attributes\":{\"fill_alpha\":{\"field\":\"fill_alpha\"},\"fill_color\":{\"field\":\"color\"},\"height\":{\"field\":\"height\",\"units\":\"data\"},\"line_color\":{\"field\":\"line_color\"},\"width\":{\"field\":\"width\",\"units\":\"data\"},\"x\":{\"field\":\"x\"},\"y\":{\"field\":\"y\"}},\"id\":\"98a599b0-fb8b-4803-968b-e9cb916eb9b9\",\"type\":\"Rect\"},{\"attributes\":{\"label\":{\"value\":\"2015-04-17\"},\"renderers\":[{\"id\":\"4a3f97c5-f80a-4790-bcac-956d7100c4d8\",\"type\":\"GlyphRenderer\"}]},\"id\":\"53ee3473-f4ae-4b74-b9d5-88d32b07c72f\",\"type\":\"LegendItem\"},{\"attributes\":{\"callback\":null,\"column_names\":[\"line_color\",\"line_alpha\",\"color\",\"fill_alpha\",\"height\",\"width\",\"y\",\"x\",\"label\"],\"data\":{\"chart_index\":[{\"date\":1436479200000.0}],\"color\":[\"#f22c40\"],\"date\":[1436479200000.0],\"fill_alpha\":[0.8],\"height\":[0.0],\"label\":[{\"date\":1436479200000.0}],\"line_alpha\":[1.0],\"line_color\":[\"white\"],\"width\":[0.8],\"x\":[\"2015-07-10\"],\"y\":[0.0]}},\"id\":\"90441020-9904-4c0a-996a-f722430edb10\",\"type\":\"ColumnDataSource\"},{\"attributes\":{\"label\":{\"value\":\"2015-08-21\"},\"renderers\":[{\"id\":\"199740a9-b982-49a3-a4ae-3cdf4092ea8c\",\"type\":\"GlyphRenderer\"}]},\"id\":\"4cf40794-c4a2-4f46-98f3-574e5c303652\",\"type\":\"LegendItem\"},{\"attributes\":{\"label\":{\"value\":\"2015-10-30\"},\"renderers\":[{\"id\":\"8a5638b0-5a2b-4092-a5dc-17ca0bdeb171\",\"type\":\"GlyphRenderer\"}]},\"id\":\"f6fd81ea-96ff-47ed-8d6c-bade2dc43281\",\"type\":\"LegendItem\"},{\"attributes\":{\"callback\":null,\"column_names\":[\"line_color\",\"line_alpha\",\"color\",\"fill_alpha\",\"height\",\"width\",\"y\",\"x\",\"label\"],\"data\":{\"chart_index\":[{\"date\":1426806000000.0}],\"color\":[\"#f22c40\"],\"date\":[1426806000000.0],\"fill_alpha\":[0.8],\"height\":[1.0],\"label\":[{\"date\":1426806000000.0}],\"line_alpha\":[1.0],\"line_color\":[\"white\"],\"width\":[0.8],\"x\":[\"2015-03-20\"],\"y\":[0.5]}},\"id\":\"8f99d9f8-52d4-41d6-935b-efa7e6e5eeb2\",\"type\":\"ColumnDataSource\"},{\"attributes\":{\"callback\":null,\"column_names\":[\"line_color\",\"line_alpha\",\"color\",\"fill_alpha\",\"height\",\"width\",\"y\",\"x\",\"label\"],\"data\":{\"chart_index\":[{\"date\":1441317600000.0}],\"color\":[\"#f22c40\"],\"date\":[1441317600000.0],\"fill_alpha\":[0.8],\"height\":[0.0],\"label\":[{\"date\":1441317600000.0}],\"line_alpha\":[1.0],\"line_color\":[\"white\"],\"width\":[0.8],\"x\":[\"2015-09-04\"],\"y\":[0.0]}},\"id\":\"e891477e-5496-460c-94e4-d51889750675\",\"type\":\"ColumnDataSource\"},{\"attributes\":{\"label\":{\"value\":\"2015-09-25\"},\"renderers\":[{\"id\":\"530864fa-a352-4cf0-817a-72007d24df66\",\"type\":\"GlyphRenderer\"}]},\"id\":\"3749f799-287b-4430-904c-65c9b98f9df9\",\"type\":\"LegendItem\"},{\"attributes\":{\"label\":{\"value\":\"2015-10-23\"},\"renderers\":[{\"id\":\"9ed58aa1-7649-40de-af67-5d96d303841c\",\"type\":\"GlyphRenderer\"}]},\"id\":\"5dc6d8f7-db0f-497a-836b-5ea91f0717ae\",\"type\":\"LegendItem\"},{\"attributes\":{\"data_source\":{\"id\":\"71c96b01-a863-4acb-8c8b-718e09d8343f\",\"type\":\"ColumnDataSource\"},\"glyph\":{\"id\":\"e3545484-0cdd-457e-b407-d6d7063b70ca\",\"type\":\"Rect\"},\"hover_glyph\":null,\"nonselection_glyph\":null,\"selection_glyph\":null},\"id\":\"f5b898bd-b673-4630-b4c1-fe3483015a8b\",\"type\":\"GlyphRenderer\"},{\"attributes\":{\"fill_alpha\":{\"field\":\"fill_alpha\"},\"fill_color\":{\"field\":\"color\"},\"height\":{\"field\":\"height\",\"units\":\"data\"},\"line_color\":{\"field\":\"line_color\"},\"width\":{\"field\":\"width\",\"units\":\"data\"},\"x\":{\"field\":\"x\"},\"y\":{\"field\":\"y\"}},\"id\":\"b6ff77b8-700b-4ff4-ba2b-f56e12c1ac11\",\"type\":\"Rect\"},{\"attributes\":{\"label\":{\"value\":\"2015-07-17\"},\"renderers\":[{\"id\":\"e95f2df5-36d7-40e3-8069-c3ebd46b0192\",\"type\":\"GlyphRenderer\"}]},\"id\":\"7b00047e-dd53-4b7d-b52a-86f2a27cad95\",\"type\":\"LegendItem\"},{\"attributes\":{\"label\":{\"value\":\"2015-07-03\"},\"renderers\":[{\"id\":\"0a9f2028-0370-4263-ba68-2f60270b5c74\",\"type\":\"GlyphRenderer\"}]},\"id\":\"a3b6c326-b56b-4aab-841d-55e20e4a4d37\",\"type\":\"LegendItem\"},{\"attributes\":{\"fill_alpha\":{\"field\":\"fill_alpha\"},\"fill_color\":{\"field\":\"color\"},\"height\":{\"field\":\"height\",\"units\":\"data\"},\"line_color\":{\"field\":\"line_color\"},\"width\":{\"field\":\"width\",\"units\":\"data\"},\"x\":{\"field\":\"x\"},\"y\":{\"field\":\"y\"}},\"id\":\"1505d44b-0adf-4cf3-bdda-77c0f0aa3289\",\"type\":\"Rect\"},{\"attributes\":{\"label\":{\"value\":\"2015-06-12\"},\"renderers\":[{\"id\":\"b4e05c74-7e7a-466e-9498-fa5bddd5fa55\",\"type\":\"GlyphRenderer\"}]},\"id\":\"9c4586de-df7a-48a3-b514-f52a4e430302\",\"type\":\"LegendItem\"},{\"attributes\":{\"data_source\":{\"id\":\"5303ef9f-c742-4f2f-bfe7-a2de4e606c41\",\"type\":\"ColumnDataSource\"},\"glyph\":{\"id\":\"4d214dad-10b4-48cf-a3cf-bbd5d95b61c2\",\"type\":\"Rect\"},\"hover_glyph\":null,\"nonselection_glyph\":null,\"selection_glyph\":null},\"id\":\"d16fec13-59eb-4c36-a519-f7e8a5fee6c7\",\"type\":\"GlyphRenderer\"},{\"attributes\":{\"fill_alpha\":{\"field\":\"fill_alpha\"},\"fill_color\":{\"field\":\"color\"},\"height\":{\"field\":\"height\",\"units\":\"data\"},\"line_color\":{\"field\":\"line_color\"},\"width\":{\"field\":\"width\",\"units\":\"data\"},\"x\":{\"field\":\"x\"},\"y\":{\"field\":\"y\"}},\"id\":\"c8272090-e7ca-47fe-9ef1-3d6c8dcab14c\",\"type\":\"Rect\"},{\"attributes\":{\"plot\":{\"id\":\"04787d6d-3008-4576-87ae-d4e453f6aa39\",\"subtype\":\"Chart\",\"type\":\"Plot\"}},\"id\":\"a1b0b37b-03bf-41ca-ae69-c2bf795bcaf0\",\"type\":\"PanTool\"},{\"attributes\":{\"label\":{\"value\":\"2014-12-26\"},\"renderers\":[{\"id\":\"22823813-1fba-4987-91e4-ac39a43e4e1f\",\"type\":\"GlyphRenderer\"}]},\"id\":\"7a2fa592-91fa-4cc0-841d-b8266ace04f4\",\"type\":\"LegendItem\"},{\"attributes\":{\"label\":{\"value\":\"2015-07-10\"},\"renderers\":[{\"id\":\"b622c83e-7f12-4762-90f4-c44ffebdb761\",\"type\":\"GlyphRenderer\"}]},\"id\":\"bf486d81-b7f4-4dc3-b463-34fd3d2736b1\",\"type\":\"LegendItem\"},{\"attributes\":{\"label\":{\"value\":\"2015-06-19\"},\"renderers\":[{\"id\":\"bc269896-4d84-45e1-80fa-ff3784acc2e8\",\"type\":\"GlyphRenderer\"}]},\"id\":\"d697d7d2-57f1-4873-b2ad-e2fd4ce71bb1\",\"type\":\"LegendItem\"},{\"attributes\":{\"callback\":null,\"column_names\":[\"line_color\",\"line_alpha\",\"color\",\"fill_alpha\",\"height\",\"width\",\"y\",\"x\",\"label\"],\"data\":{\"chart_index\":[{\"date\":1445551200000.0}],\"color\":[\"#f22c40\"],\"date\":[1445551200000.0],\"fill_alpha\":[0.8],\"height\":[14.0],\"label\":[{\"date\":1445551200000.0}],\"line_alpha\":[1.0],\"line_color\":[\"white\"],\"width\":[0.8],\"x\":[\"2015-10-23\"],\"y\":[7.0]}},\"id\":\"92347264-bdc6-4f34-963e-0bad02ab5409\",\"type\":\"ColumnDataSource\"},{\"attributes\":{\"fill_alpha\":{\"field\":\"fill_alpha\"},\"fill_color\":{\"field\":\"color\"},\"height\":{\"field\":\"height\",\"units\":\"data\"},\"line_color\":{\"field\":\"line_color\"},\"width\":{\"field\":\"width\",\"units\":\"data\"},\"x\":{\"field\":\"x\"},\"y\":{\"field\":\"y\"}},\"id\":\"11948d3c-c0e1-41bf-9155-02a7c192c67a\",\"type\":\"Rect\"},{\"attributes\":{\"fill_alpha\":{\"field\":\"fill_alpha\"},\"fill_color\":{\"field\":\"color\"},\"height\":{\"field\":\"height\",\"units\":\"data\"},\"line_color\":{\"field\":\"line_color\"},\"width\":{\"field\":\"width\",\"units\":\"data\"},\"x\":{\"field\":\"x\"},\"y\":{\"field\":\"y\"}},\"id\":\"6b69f8df-152b-4479-b2a5-34219609fd21\",\"type\":\"Rect\"},{\"attributes\":{\"label\":{\"value\":\"2015-01-30\"},\"renderers\":[{\"id\":\"82e7f8d5-c694-40df-b824-e594a0700d5b\",\"type\":\"GlyphRenderer\"}]},\"id\":\"2e4f59da-5235-4ba2-b930-976c6d2bba2b\",\"type\":\"LegendItem\"},{\"attributes\":{\"fill_alpha\":{\"field\":\"fill_alpha\"},\"fill_color\":{\"field\":\"color\"},\"height\":{\"field\":\"height\",\"units\":\"data\"},\"line_color\":{\"field\":\"line_color\"},\"width\":{\"field\":\"width\",\"units\":\"data\"},\"x\":{\"field\":\"x\"},\"y\":{\"field\":\"y\"}},\"id\":\"45adc5ab-4352-40a9-9fe2-161f6c7ac4ab\",\"type\":\"Rect\"},{\"attributes\":{\"label\":{\"value\":\"2015-05-15\"},\"renderers\":[{\"id\":\"611bcfea-9984-47e1-9ac8-4c44ff81e8ac\",\"type\":\"GlyphRenderer\"}]},\"id\":\"f9fbca42-0253-4caf-9937-5596799472af\",\"type\":\"LegendItem\"},{\"attributes\":{\"data_source\":{\"id\":\"76d7e6e2-2255-4eb1-8bb4-c8938d6c2e45\",\"type\":\"ColumnDataSource\"},\"glyph\":{\"id\":\"b6ff77b8-700b-4ff4-ba2b-f56e12c1ac11\",\"type\":\"Rect\"},\"hover_glyph\":null,\"nonselection_glyph\":null,\"selection_glyph\":null},\"id\":\"4413b819-60d9-400d-95b2-b5ee6084ffad\",\"type\":\"GlyphRenderer\"},{\"attributes\":{\"label\":{\"value\":\"2015-01-09\"},\"renderers\":[{\"id\":\"4decea97-1e08-4e43-b87a-f2f57e9545a8\",\"type\":\"GlyphRenderer\"}]},\"id\":\"1a40d767-6bc3-411b-9c76-3b4179122973\",\"type\":\"LegendItem\"},{\"attributes\":{\"callback\":null,\"column_names\":[\"line_color\",\"line_alpha\",\"color\",\"fill_alpha\",\"height\",\"width\",\"y\",\"x\",\"label\"],\"data\":{\"chart_index\":[{\"date\":1422572400000.0}],\"color\":[\"#f22c40\"],\"date\":[1422572400000.0],\"fill_alpha\":[0.8],\"height\":[6.0],\"label\":[{\"date\":1422572400000.0}],\"line_alpha\":[1.0],\"line_color\":[\"white\"],\"width\":[0.8],\"x\":[\"2015-01-30\"],\"y\":[3.0]}},\"id\":\"e4f34221-1be2-45e2-ae3d-fac608cee8af\",\"type\":\"ColumnDataSource\"},{\"attributes\":{\"fill_alpha\":{\"field\":\"fill_alpha\"},\"fill_color\":{\"field\":\"color\"},\"height\":{\"field\":\"height\",\"units\":\"data\"},\"line_color\":{\"field\":\"line_color\"},\"width\":{\"field\":\"width\",\"units\":\"data\"},\"x\":{\"field\":\"x\"},\"y\":{\"field\":\"y\"}},\"id\":\"7f4d8382-943e-48dd-acac-884f4a66f419\",\"type\":\"Rect\"},{\"attributes\":{\"data_source\":{\"id\":\"59236c25-2758-4f04-9808-a8baedf58a90\",\"type\":\"ColumnDataSource\"},\"glyph\":{\"id\":\"45adc5ab-4352-40a9-9fe2-161f6c7ac4ab\",\"type\":\"Rect\"},\"hover_glyph\":null,\"nonselection_glyph\":null,\"selection_glyph\":null},\"id\":\"4a3f97c5-f80a-4790-bcac-956d7100c4d8\",\"type\":\"GlyphRenderer\"},{\"attributes\":{\"fill_alpha\":{\"field\":\"fill_alpha\"},\"fill_color\":{\"field\":\"color\"},\"height\":{\"field\":\"height\",\"units\":\"data\"},\"line_color\":{\"field\":\"line_color\"},\"width\":{\"field\":\"width\",\"units\":\"data\"},\"x\":{\"field\":\"x\"},\"y\":{\"field\":\"y\"}},\"id\":\"55fa8ebe-ba06-4023-be97-84f7265591a0\",\"type\":\"Rect\"},{\"attributes\":{\"fill_alpha\":{\"field\":\"fill_alpha\"},\"fill_color\":{\"field\":\"color\"},\"height\":{\"field\":\"height\",\"units\":\"data\"},\"line_color\":{\"field\":\"line_color\"},\"width\":{\"field\":\"width\",\"units\":\"data\"},\"x\":{\"field\":\"x\"},\"y\":{\"field\":\"y\"}},\"id\":\"bded870d-07c5-493e-8de3-a258fc74c117\",\"type\":\"Rect\"},{\"attributes\":{\"callback\":null,\"column_names\":[\"line_color\",\"line_alpha\",\"color\",\"fill_alpha\",\"height\",\"width\",\"y\",\"x\",\"label\"],\"data\":{\"chart_index\":[{\"date\":1417734000000.0}],\"color\":[\"#f22c40\"],\"date\":[1417734000000.0],\"fill_alpha\":[0.8],\"height\":[15.0],\"label\":[{\"date\":1417734000000.0}],\"line_alpha\":[1.0],\"line_color\":[\"white\"],\"width\":[0.8],\"x\":[\"2014-12-05\"],\"y\":[7.5]}},\"id\":\"371f8573-377d-413b-b61d-ae7c6e97523d\",\"type\":\"ColumnDataSource\"},{\"attributes\":{\"callback\":null,\"column_names\":[\"line_color\",\"line_alpha\",\"color\",\"fill_alpha\",\"height\",\"width\",\"y\",\"x\",\"label\"],\"data\":{\"chart_index\":[{\"date\":1438293600000.0}],\"color\":[\"#f22c40\"],\"date\":[1438293600000.0],\"fill_alpha\":[0.8],\"height\":[0.0],\"label\":[{\"date\":1438293600000.0}],\"line_alpha\":[1.0],\"line_color\":[\"white\"],\"width\":[0.8],\"x\":[\"2015-07-31\"],\"y\":[0.0]}},\"id\":\"fa1a84a7-e40f-40fd-bb4e-f49ff5172072\",\"type\":\"ColumnDataSource\"},{\"attributes\":{\"data_source\":{\"id\":\"b5be8a1e-a273-433e-8545-b655f8d6b7c6\",\"type\":\"ColumnDataSource\"},\"glyph\":{\"id\":\"53af6129-d6a8-4067-99dd-300d6b625472\",\"type\":\"Rect\"},\"hover_glyph\":null,\"nonselection_glyph\":null,\"selection_glyph\":null},\"id\":\"14a4b102-ace6-4d1e-9e13-6df7f71c6ceb\",\"type\":\"GlyphRenderer\"},{\"attributes\":{\"data_source\":{\"id\":\"92347264-bdc6-4f34-963e-0bad02ab5409\",\"type\":\"ColumnDataSource\"},\"glyph\":{\"id\":\"1b927e00-7a47-4d81-9ae6-308d8ee9db08\",\"type\":\"Rect\"},\"hover_glyph\":null,\"nonselection_glyph\":null,\"selection_glyph\":null},\"id\":\"9ed58aa1-7649-40de-af67-5d96d303841c\",\"type\":\"GlyphRenderer\"},{\"attributes\":{\"callback\":null,\"column_names\":[\"line_color\",\"line_alpha\",\"color\",\"fill_alpha\",\"height\",\"width\",\"y\",\"x\",\"label\"],\"data\":{\"chart_index\":[{\"date\":1444946400000.0}],\"color\":[\"#f22c40\"],\"date\":[1444946400000.0],\"fill_alpha\":[0.8],\"height\":[14.0],\"label\":[{\"date\":1444946400000.0}],\"line_alpha\":[1.0],\"line_color\":[\"white\"],\"width\":[0.8],\"x\":[\"2015-10-16\"],\"y\":[7.0]}},\"id\":\"90998316-90c9-4232-83de-d74945619180\",\"type\":\"ColumnDataSource\"},{\"attributes\":{\"callback\":null,\"column_names\":[\"line_color\",\"line_alpha\",\"color\",\"fill_alpha\",\"height\",\"width\",\"y\",\"x\",\"label\"],\"data\":{\"chart_index\":[{\"date\":1437084000000.0}],\"color\":[\"#f22c40\"],\"date\":[1437084000000.0],\"fill_alpha\":[0.8],\"height\":[0.0],\"label\":[{\"date\":1437084000000.0}],\"line_alpha\":[1.0],\"line_color\":[\"white\"],\"width\":[0.8],\"x\":[\"2015-07-17\"],\"y\":[0.0]}},\"id\":\"f47b3a86-a666-4979-af18-d643761c25f4\",\"type\":\"ColumnDataSource\"},{\"attributes\":{\"fill_alpha\":{\"field\":\"fill_alpha\"},\"fill_color\":{\"field\":\"color\"},\"height\":{\"field\":\"height\",\"units\":\"data\"},\"line_color\":{\"field\":\"line_color\"},\"width\":{\"field\":\"width\",\"units\":\"data\"},\"x\":{\"field\":\"x\"},\"y\":{\"field\":\"y\"}},\"id\":\"9806054a-97e3-4673-8410-aa0e1b24321a\",\"type\":\"Rect\"},{\"attributes\":{\"label\":{\"value\":\"2015-01-23\"},\"renderers\":[{\"id\":\"f8ea4856-d78c-4998-b8b9-683b6fb5f1ac\",\"type\":\"GlyphRenderer\"}]},\"id\":\"998eb7aa-4400-40a6-b60f-3f0b1eb3092f\",\"type\":\"LegendItem\"},{\"attributes\":{\"data_source\":{\"id\":\"4038e82e-6ee9-46a0-ac58-8383abee16be\",\"type\":\"ColumnDataSource\"},\"glyph\":{\"id\":\"5b008178-03b0-426f-8b26-6afb9cec6646\",\"type\":\"Rect\"},\"hover_glyph\":null,\"nonselection_glyph\":null,\"selection_glyph\":null},\"id\":\"8a4b4c15-554f-43ed-bebd-59e760e9af04\",\"type\":\"GlyphRenderer\"},{\"attributes\":{\"fill_alpha\":{\"field\":\"fill_alpha\"},\"fill_color\":{\"field\":\"color\"},\"height\":{\"field\":\"height\",\"units\":\"data\"},\"line_color\":{\"field\":\"line_color\"},\"width\":{\"field\":\"width\",\"units\":\"data\"},\"x\":{\"field\":\"x\"},\"y\":{\"field\":\"y\"}},\"id\":\"ba9f0e1b-bb29-4bb0-be1d-2d9ae7100ca3\",\"type\":\"Rect\"},{\"attributes\":{\"label\":{\"value\":\"2015-05-08\"},\"renderers\":[{\"id\":\"84e0abd3-06bc-4518-b9ec-36d6951eb71c\",\"type\":\"GlyphRenderer\"}]},\"id\":\"00b726ff-8e07-42e6-94ea-10ce563249e8\",\"type\":\"LegendItem\"},{\"attributes\":{\"data_source\":{\"id\":\"f5c5b1e1-082f-4b5f-8e03-3f2c2a796dae\",\"type\":\"ColumnDataSource\"},\"glyph\":{\"id\":\"ea338201-0fb7-4d71-9785-ff5d734fd27c\",\"type\":\"Rect\"},\"hover_glyph\":null,\"nonselection_glyph\":null,\"selection_glyph\":null},\"id\":\"0a9f2028-0370-4263-ba68-2f60270b5c74\",\"type\":\"GlyphRenderer\"},{\"attributes\":{\"label\":{\"value\":\"2014-12-19\"},\"renderers\":[{\"id\":\"5aef8eda-dcf3-4664-9368-14e5589b27ef\",\"type\":\"GlyphRenderer\"}]},\"id\":\"66c40082-d94f-42c4-80f7-57ec8ad2400f\",\"type\":\"LegendItem\"},{\"attributes\":{\"data_source\":{\"id\":\"1c2f1b0e-b057-4530-a755-c690067a3247\",\"type\":\"ColumnDataSource\"},\"glyph\":{\"id\":\"635d7fe9-9ceb-4317-be93-f914c2345ab9\",\"type\":\"Rect\"},\"hover_glyph\":null,\"nonselection_glyph\":null,\"selection_glyph\":null},\"id\":\"c550a8fa-ea0d-40c0-84a6-f60a68af83e8\",\"type\":\"GlyphRenderer\"},{\"attributes\":{\"callback\":null,\"column_names\":[\"line_color\",\"line_alpha\",\"color\",\"fill_alpha\",\"height\",\"width\",\"y\",\"x\",\"label\"],\"data\":{\"chart_index\":[{\"date\":1428616800000.0}],\"color\":[\"#f22c40\"],\"date\":[1428616800000.0],\"fill_alpha\":[0.8],\"height\":[0.0],\"label\":[{\"date\":1428616800000.0}],\"line_alpha\":[1.0],\"line_color\":[\"white\"],\"width\":[0.8],\"x\":[\"2015-04-10\"],\"y\":[0.0]}},\"id\":\"1cb8df78-ad9b-46bf-8902-221b356a2db9\",\"type\":\"ColumnDataSource\"},{\"attributes\":{\"fill_alpha\":{\"field\":\"fill_alpha\"},\"fill_color\":{\"field\":\"color\"},\"height\":{\"field\":\"height\",\"units\":\"data\"},\"line_color\":{\"field\":\"line_color\"},\"width\":{\"field\":\"width\",\"units\":\"data\"},\"x\":{\"field\":\"x\"},\"y\":{\"field\":\"y\"}},\"id\":\"451cbe58-8caa-43e7-9816-5c02e340b9c1\",\"type\":\"Rect\"},{\"attributes\":{\"label\":{\"value\":\"2015-02-13\"},\"renderers\":[{\"id\":\"4413b819-60d9-400d-95b2-b5ee6084ffad\",\"type\":\"GlyphRenderer\"}]},\"id\":\"49a1c79f-3c7e-4313-9205-0f5ba61fc5ae\",\"type\":\"LegendItem\"},{\"attributes\":{\"callback\":null,\"column_names\":[\"line_color\",\"line_alpha\",\"color\",\"fill_alpha\",\"height\",\"width\",\"y\",\"x\",\"label\"],\"data\":{\"chart_index\":[{\"date\":1420153200000.0}],\"color\":[\"#f22c40\"],\"date\":[1420153200000.0],\"fill_alpha\":[0.8],\"height\":[0.0],\"label\":[{\"date\":1420153200000.0}],\"line_alpha\":[1.0],\"line_color\":[\"white\"],\"width\":[0.8],\"x\":[\"2015-01-02\"],\"y\":[0.0]}},\"id\":\"67f5d775-32af-43f3-9d28-f38289758bd0\",\"type\":\"ColumnDataSource\"},{\"attributes\":{\"callback\":null,\"column_names\":[\"line_color\",\"line_alpha\",\"color\",\"fill_alpha\",\"height\",\"width\",\"y\",\"x\",\"label\"],\"data\":{\"chart_index\":[{\"date\":1421362800000.0}],\"color\":[\"#f22c40\"],\"date\":[1421362800000.0],\"fill_alpha\":[0.8],\"height\":[0.0],\"label\":[{\"date\":1421362800000.0}],\"line_alpha\":[1.0],\"line_color\":[\"white\"],\"width\":[0.8],\"x\":[\"2015-01-16\"],\"y\":[0.0]}},\"id\":\"536ed45d-4b0c-43ad-b4b7-6fbe253717c7\",\"type\":\"ColumnDataSource\"},{\"attributes\":{\"plot\":{\"id\":\"04787d6d-3008-4576-87ae-d4e453f6aa39\",\"subtype\":\"Chart\",\"type\":\"Plot\"}},\"id\":\"ccf7eb9b-07bf-44e7-8a58-45853275c561\",\"type\":\"ResetTool\"},{\"attributes\":{\"data_source\":{\"id\":\"f47b3a86-a666-4979-af18-d643761c25f4\",\"type\":\"ColumnDataSource\"},\"glyph\":{\"id\":\"a96bd9ae-a4a6-43a5-a94f-48059c05d47c\",\"type\":\"Rect\"},\"hover_glyph\":null,\"nonselection_glyph\":null,\"selection_glyph\":null},\"id\":\"e95f2df5-36d7-40e3-8069-c3ebd46b0192\",\"type\":\"GlyphRenderer\"},{\"attributes\":{\"fill_alpha\":{\"field\":\"fill_alpha\"},\"fill_color\":{\"field\":\"color\"},\"height\":{\"field\":\"height\",\"units\":\"data\"},\"line_color\":{\"field\":\"line_color\"},\"width\":{\"field\":\"width\",\"units\":\"data\"},\"x\":{\"field\":\"x\"},\"y\":{\"field\":\"y\"}},\"id\":\"5b008178-03b0-426f-8b26-6afb9cec6646\",\"type\":\"Rect\"},{\"attributes\":{\"data_source\":{\"id\":\"e4f34221-1be2-45e2-ae3d-fac608cee8af\",\"type\":\"ColumnDataSource\"},\"glyph\":{\"id\":\"37754746-ec5f-4f68-a77d-8830dbece9e1\",\"type\":\"Rect\"},\"hover_glyph\":null,\"nonselection_glyph\":null,\"selection_glyph\":null},\"id\":\"82e7f8d5-c694-40df-b824-e594a0700d5b\",\"type\":\"GlyphRenderer\"},{\"attributes\":{\"callback\":null,\"column_names\":[\"line_color\",\"line_alpha\",\"color\",\"fill_alpha\",\"height\",\"width\",\"y\",\"x\",\"label\"],\"data\":{\"chart_index\":[{\"date\":1419548400000.0}],\"color\":[\"#f22c40\"],\"date\":[1419548400000.0],\"fill_alpha\":[0.8],\"height\":[2.0],\"label\":[{\"date\":1419548400000.0}],\"line_alpha\":[1.0],\"line_color\":[\"white\"],\"width\":[0.8],\"x\":[\"2014-12-26\"],\"y\":[1.0]}},\"id\":\"a7140047-9bfc-46f9-881a-1ae305cc80ec\",\"type\":\"ColumnDataSource\"},{\"attributes\":{\"callback\":null,\"column_names\":[\"line_color\",\"line_alpha\",\"color\",\"fill_alpha\",\"height\",\"width\",\"y\",\"x\",\"label\"],\"data\":{\"chart_index\":[{\"date\":1426201200000.0}],\"color\":[\"#f22c40\"],\"date\":[1426201200000.0],\"fill_alpha\":[0.8],\"height\":[0.0],\"label\":[{\"date\":1426201200000.0}],\"line_alpha\":[1.0],\"line_color\":[\"white\"],\"width\":[0.8],\"x\":[\"2015-03-13\"],\"y\":[0.0]}},\"id\":\"4038e82e-6ee9-46a0-ac58-8383abee16be\",\"type\":\"ColumnDataSource\"},{\"attributes\":{\"fill_alpha\":{\"field\":\"fill_alpha\"},\"fill_color\":{\"field\":\"color\"},\"height\":{\"field\":\"height\",\"units\":\"data\"},\"line_color\":{\"field\":\"line_color\"},\"width\":{\"field\":\"width\",\"units\":\"data\"},\"x\":{\"field\":\"x\"},\"y\":{\"field\":\"y\"}},\"id\":\"4d214dad-10b4-48cf-a3cf-bbd5d95b61c2\",\"type\":\"Rect\"},{\"attributes\":{\"label\":{\"value\":\"2015-03-06\"},\"renderers\":[{\"id\":\"a8e9f200-c3f8-4158-b25c-866a85fd4a77\",\"type\":\"GlyphRenderer\"}]},\"id\":\"9ed48d70-84c2-4857-afc1-5729d2bce9dd\",\"type\":\"LegendItem\"},{\"attributes\":{\"fill_alpha\":{\"field\":\"fill_alpha\"},\"fill_color\":{\"field\":\"color\"},\"height\":{\"field\":\"height\",\"units\":\"data\"},\"line_color\":{\"field\":\"line_color\"},\"width\":{\"field\":\"width\",\"units\":\"data\"},\"x\":{\"field\":\"x\"},\"y\":{\"field\":\"y\"}},\"id\":\"35a45500-5dcb-44e9-a631-35b4d80ee01c\",\"type\":\"Rect\"},{\"attributes\":{},\"id\":\"5bff3162-a1d0-4617-9b07-3c62eb0fc89b\",\"type\":\"ToolEvents\"},{\"attributes\":{\"data_source\":{\"id\":\"2c27959b-aae7-49e3-99e3-9d95680a5632\",\"type\":\"ColumnDataSource\"},\"glyph\":{\"id\":\"6b69f8df-152b-4479-b2a5-34219609fd21\",\"type\":\"Rect\"},\"hover_glyph\":null,\"nonselection_glyph\":null,\"selection_glyph\":null},\"id\":\"bc269896-4d84-45e1-80fa-ff3784acc2e8\",\"type\":\"GlyphRenderer\"},{\"attributes\":{\"data_source\":{\"id\":\"371f8573-377d-413b-b61d-ae7c6e97523d\",\"type\":\"ColumnDataSource\"},\"glyph\":{\"id\":\"98a599b0-fb8b-4803-968b-e9cb916eb9b9\",\"type\":\"Rect\"},\"hover_glyph\":null,\"nonselection_glyph\":null,\"selection_glyph\":null},\"id\":\"0b3e5ee4-db5f-472f-bf5b-3a50dcb82abe\",\"type\":\"GlyphRenderer\"},{\"attributes\":{\"callback\":null,\"column_names\":[\"line_color\",\"line_alpha\",\"color\",\"fill_alpha\",\"height\",\"width\",\"y\",\"x\",\"label\"],\"data\":{\"chart_index\":[{\"date\":1444341600000.0}],\"color\":[\"#f22c40\"],\"date\":[1444341600000.0],\"fill_alpha\":[0.8],\"height\":[0.0],\"label\":[{\"date\":1444341600000.0}],\"line_alpha\":[1.0],\"line_color\":[\"white\"],\"width\":[0.8],\"x\":[\"2015-10-09\"],\"y\":[0.0]}},\"id\":\"a9e4fd4a-656b-4b5c-b560-39fee3733ecd\",\"type\":\"ColumnDataSource\"},{\"attributes\":{\"data_source\":{\"id\":\"b14177ab-e7f5-426f-99bb-87213e7dc610\",\"type\":\"ColumnDataSource\"},\"glyph\":{\"id\":\"9a5c3877-1b82-44eb-8a25-5d927b071adc\",\"type\":\"Rect\"},\"hover_glyph\":null,\"nonselection_glyph\":null,\"selection_glyph\":null},\"id\":\"95c949f2-29ff-4229-9aa5-bad1cc3d277e\",\"type\":\"GlyphRenderer\"},{\"attributes\":{\"fill_alpha\":{\"field\":\"fill_alpha\"},\"fill_color\":{\"field\":\"color\"},\"height\":{\"field\":\"height\",\"units\":\"data\"},\"line_color\":{\"field\":\"line_color\"},\"width\":{\"field\":\"width\",\"units\":\"data\"},\"x\":{\"field\":\"x\"},\"y\":{\"field\":\"y\"}},\"id\":\"53af6129-d6a8-4067-99dd-300d6b625472\",\"type\":\"Rect\"},{\"attributes\":{\"label\":{\"value\":\"2015-03-13\"},\"renderers\":[{\"id\":\"8a4b4c15-554f-43ed-bebd-59e760e9af04\",\"type\":\"GlyphRenderer\"}]},\"id\":\"9250baaf-4122-4420-87a7-237f5c592135\",\"type\":\"LegendItem\"},{\"attributes\":{\"callback\":null,\"column_names\":[\"line_color\",\"line_alpha\",\"color\",\"fill_alpha\",\"height\",\"width\",\"y\",\"x\",\"label\"],\"data\":{\"chart_index\":[{\"date\":1440712800000.0}],\"color\":[\"#f22c40\"],\"date\":[1440712800000.0],\"fill_alpha\":[0.8],\"height\":[0.0],\"label\":[{\"date\":1440712800000.0}],\"line_alpha\":[1.0],\"line_color\":[\"white\"],\"width\":[0.8],\"x\":[\"2015-08-28\"],\"y\":[0.0]}},\"id\":\"a2d964b9-92eb-48d9-8d4e-84b063383094\",\"type\":\"ColumnDataSource\"},{\"attributes\":{\"callback\":null,\"column_names\":[\"line_color\",\"line_alpha\",\"color\",\"fill_alpha\",\"height\",\"width\",\"y\",\"x\",\"label\"],\"data\":{\"chart_index\":[{\"date\":1434664800000.0}],\"color\":[\"#f22c40\"],\"date\":[1434664800000.0],\"fill_alpha\":[0.8],\"height\":[0.0],\"label\":[{\"date\":1434664800000.0}],\"line_alpha\":[1.0],\"line_color\":[\"white\"],\"width\":[0.8],\"x\":[\"2015-06-19\"],\"y\":[0.0]}},\"id\":\"2c27959b-aae7-49e3-99e3-9d95680a5632\",\"type\":\"ColumnDataSource\"},{\"attributes\":{\"below\":[{\"id\":\"bb78dbfb-c59c-48ab-89e0-cdb8cb8af4b3\",\"type\":\"CategoricalAxis\"}],\"css_classes\":null,\"left\":[{\"id\":\"4bef5680-d6e1-43e1-9813-056f5493def6\",\"type\":\"LinearAxis\"}],\"renderers\":[{\"id\":\"a2b3e4da-fa9f-40c8-8d87-08f84e7d5730\",\"type\":\"BoxAnnotation\"},{\"id\":\"50e19ba7-54d0-4d61-be08-15192f873870\",\"type\":\"GlyphRenderer\"},{\"id\":\"0b3e5ee4-db5f-472f-bf5b-3a50dcb82abe\",\"type\":\"GlyphRenderer\"},{\"id\":\"f6b32bcd-97ba-499a-9a4e-f72ee007eae1\",\"type\":\"GlyphRenderer\"},{\"id\":\"5aef8eda-dcf3-4664-9368-14e5589b27ef\",\"type\":\"GlyphRenderer\"},{\"id\":\"22823813-1fba-4987-91e4-ac39a43e4e1f\",\"type\":\"GlyphRenderer\"},{\"id\":\"21745bf3-2c4a-44eb-b741-e7d1a2e3a3a3\",\"type\":\"GlyphRenderer\"},{\"id\":\"4decea97-1e08-4e43-b87a-f2f57e9545a8\",\"type\":\"GlyphRenderer\"},{\"id\":\"6834f89c-5217-4b0a-90de-ac041d32533b\",\"type\":\"GlyphRenderer\"},{\"id\":\"f8ea4856-d78c-4998-b8b9-683b6fb5f1ac\",\"type\":\"GlyphRenderer\"},{\"id\":\"82e7f8d5-c694-40df-b824-e594a0700d5b\",\"type\":\"GlyphRenderer\"},{\"id\":\"1dbc584d-fcdd-4662-9066-1613ef96c67d\",\"type\":\"GlyphRenderer\"},{\"id\":\"4413b819-60d9-400d-95b2-b5ee6084ffad\",\"type\":\"GlyphRenderer\"},{\"id\":\"331c04d3-871e-4374-a627-7b7c5da8afb9\",\"type\":\"GlyphRenderer\"},{\"id\":\"c550a8fa-ea0d-40c0-84a6-f60a68af83e8\",\"type\":\"GlyphRenderer\"},{\"id\":\"a8e9f200-c3f8-4158-b25c-866a85fd4a77\",\"type\":\"GlyphRenderer\"},{\"id\":\"8a4b4c15-554f-43ed-bebd-59e760e9af04\",\"type\":\"GlyphRenderer\"},{\"id\":\"22e96fe5-f224-4c6e-9526-04c28008d59b\",\"type\":\"GlyphRenderer\"},{\"id\":\"14a4b102-ace6-4d1e-9e13-6df7f71c6ceb\",\"type\":\"GlyphRenderer\"},{\"id\":\"e9c047ad-483b-4afd-86f4-7ae5a663e32a\",\"type\":\"GlyphRenderer\"},{\"id\":\"3f20c244-c9e7-4215-a5d2-6990cc86e596\",\"type\":\"GlyphRenderer\"},{\"id\":\"4a3f97c5-f80a-4790-bcac-956d7100c4d8\",\"type\":\"GlyphRenderer\"},{\"id\":\"add484a6-c1b9-4ff8-82c2-836cebec059f\",\"type\":\"GlyphRenderer\"},{\"id\":\"d25f89ef-0b3e-41c3-a262-21ac372ddacc\",\"type\":\"GlyphRenderer\"},{\"id\":\"84e0abd3-06bc-4518-b9ec-36d6951eb71c\",\"type\":\"GlyphRenderer\"},{\"id\":\"611bcfea-9984-47e1-9ac8-4c44ff81e8ac\",\"type\":\"GlyphRenderer\"},{\"id\":\"f082cca7-a94d-4c45-8bc4-54708f2e26e7\",\"type\":\"GlyphRenderer\"},{\"id\":\"cfe6efed-1a0f-4b62-84b2-a75a05590ba5\",\"type\":\"GlyphRenderer\"},{\"id\":\"f5b898bd-b673-4630-b4c1-fe3483015a8b\",\"type\":\"GlyphRenderer\"},{\"id\":\"b4e05c74-7e7a-466e-9498-fa5bddd5fa55\",\"type\":\"GlyphRenderer\"},{\"id\":\"bc269896-4d84-45e1-80fa-ff3784acc2e8\",\"type\":\"GlyphRenderer\"},{\"id\":\"28d76a84-da91-4c1e-84a0-36e66c824f00\",\"type\":\"GlyphRenderer\"},{\"id\":\"0a9f2028-0370-4263-ba68-2f60270b5c74\",\"type\":\"GlyphRenderer\"},{\"id\":\"b622c83e-7f12-4762-90f4-c44ffebdb761\",\"type\":\"GlyphRenderer\"},{\"id\":\"e95f2df5-36d7-40e3-8069-c3ebd46b0192\",\"type\":\"GlyphRenderer\"},{\"id\":\"23a18f21-92d1-4867-b18c-6ca861e9ea55\",\"type\":\"GlyphRenderer\"},{\"id\":\"c9c8e6d9-9ceb-4838-bcd3-571d262c2d9e\",\"type\":\"GlyphRenderer\"},{\"id\":\"d16fec13-59eb-4c36-a519-f7e8a5fee6c7\",\"type\":\"GlyphRenderer\"},{\"id\":\"9b22a614-12bf-4063-94f3-adad8b6344cb\",\"type\":\"GlyphRenderer\"},{\"id\":\"199740a9-b982-49a3-a4ae-3cdf4092ea8c\",\"type\":\"GlyphRenderer\"},{\"id\":\"aa7a0687-6272-4c74-9bd1-30b5780e2235\",\"type\":\"GlyphRenderer\"},{\"id\":\"32926894-394f-4add-a6a0-1e4ea9c4a023\",\"type\":\"GlyphRenderer\"},{\"id\":\"d46dab6c-a873-4e67-8cea-acc45ddcdbea\",\"type\":\"GlyphRenderer\"},{\"id\":\"d2b27f7e-b176-4103-a943-411a029476b1\",\"type\":\"GlyphRenderer\"},{\"id\":\"530864fa-a352-4cf0-817a-72007d24df66\",\"type\":\"GlyphRenderer\"},{\"id\":\"95c949f2-29ff-4229-9aa5-bad1cc3d277e\",\"type\":\"GlyphRenderer\"},{\"id\":\"a447bbea-9903-4b0c-8c1a-9e42b3d70451\",\"type\":\"GlyphRenderer\"},{\"id\":\"cb87120c-16b3-40ff-8238-ddb3a199823c\",\"type\":\"GlyphRenderer\"},{\"id\":\"9ed58aa1-7649-40de-af67-5d96d303841c\",\"type\":\"GlyphRenderer\"},{\"id\":\"8a5638b0-5a2b-4092-a5dc-17ca0bdeb171\",\"type\":\"GlyphRenderer\"},{\"id\":\"881f2bd5-4fdb-4e00-9073-ab0e17ed83e0\",\"type\":\"GlyphRenderer\"},{\"id\":\"6e954c02-e8fa-4a79-9e50-9103244007a1\",\"type\":\"GlyphRenderer\"},{\"id\":\"7aff869f-206b-462f-a467-f9f4e8c54872\",\"type\":\"GlyphRenderer\"},{\"id\":\"0595e5ce-c127-4d19-b7c4-dca4c4b4baa7\",\"type\":\"Legend\"},{\"id\":\"bb78dbfb-c59c-48ab-89e0-cdb8cb8af4b3\",\"type\":\"CategoricalAxis\"},{\"id\":\"4bef5680-d6e1-43e1-9813-056f5493def6\",\"type\":\"LinearAxis\"},{\"id\":\"818ad5a3-b498-4dca-984a-62330b1f5c7a\",\"type\":\"Grid\"}],\"title\":{\"id\":\"a43a72d1-a06f-4894-802c-57261af45084\",\"type\":\"Title\"},\"tool_events\":{\"id\":\"5bff3162-a1d0-4617-9b07-3c62eb0fc89b\",\"type\":\"ToolEvents\"},\"toolbar\":{\"id\":\"1a587e32-91fb-496a-9384-dbf778afc8cb\",\"type\":\"Toolbar\"},\"x_mapper_type\":\"auto\",\"x_range\":{\"id\":\"434d5ab4-0348-4914-bcde-fef5ac498026\",\"type\":\"FactorRange\"},\"y_mapper_type\":\"auto\",\"y_range\":{\"id\":\"1c2a73bf-da44-422d-ab53-ac6c053cf98b\",\"type\":\"Range1d\"}},\"id\":\"04787d6d-3008-4576-87ae-d4e453f6aa39\",\"subtype\":\"Chart\",\"type\":\"Plot\"},{\"attributes\":{\"fill_alpha\":{\"field\":\"fill_alpha\"},\"fill_color\":{\"field\":\"color\"},\"height\":{\"field\":\"height\",\"units\":\"data\"},\"line_color\":{\"field\":\"line_color\"},\"width\":{\"field\":\"width\",\"units\":\"data\"},\"x\":{\"field\":\"x\"},\"y\":{\"field\":\"y\"}},\"id\":\"42644aed-e34f-4629-ae27-cb49f5e02f8e\",\"type\":\"Rect\"},{\"attributes\":{\"callback\":null,\"column_names\":[\"line_color\",\"line_alpha\",\"color\",\"fill_alpha\",\"height\",\"width\",\"y\",\"x\",\"label\"],\"data\":{\"chart_index\":[{\"date\":1427410800000.0}],\"color\":[\"#f22c40\"],\"date\":[1427410800000.0],\"fill_alpha\":[0.8],\"height\":[2.0],\"label\":[{\"date\":1427410800000.0}],\"line_alpha\":[1.0],\"line_color\":[\"white\"],\"width\":[0.8],\"x\":[\"2015-03-27\"],\"y\":[1.0]}},\"id\":\"b5be8a1e-a273-433e-8545-b655f8d6b7c6\",\"type\":\"ColumnDataSource\"},{\"attributes\":{\"label\":{\"value\":\"2015-11-20\"},\"renderers\":[{\"id\":\"7aff869f-206b-462f-a467-f9f4e8c54872\",\"type\":\"GlyphRenderer\"}]},\"id\":\"ecb7b07a-3aa8-41ac-b9af-e31cacb477e4\",\"type\":\"LegendItem\"},{\"attributes\":{\"fill_alpha\":{\"field\":\"fill_alpha\"},\"fill_color\":{\"field\":\"color\"},\"height\":{\"field\":\"height\",\"units\":\"data\"},\"line_color\":{\"field\":\"line_color\"},\"width\":{\"field\":\"width\",\"units\":\"data\"},\"x\":{\"field\":\"x\"},\"y\":{\"field\":\"y\"}},\"id\":\"624a6d10-9340-4a70-b5df-77756c042a1f\",\"type\":\"Rect\"},{\"attributes\":{\"callback\":null,\"column_names\":[\"line_color\",\"line_alpha\",\"color\",\"fill_alpha\",\"height\",\"width\",\"y\",\"x\",\"label\"],\"data\":{\"chart_index\":[{\"date\":1432850400000.0}],\"color\":[\"#f22c40\"],\"date\":[1432850400000.0],\"fill_alpha\":[0.8],\"height\":[0.0],\"label\":[{\"date\":1432850400000.0}],\"line_alpha\":[1.0],\"line_color\":[\"white\"],\"width\":[0.8],\"x\":[\"2015-05-29\"],\"y\":[0.0]}},\"id\":\"2d394d89-c7b7-471f-9d23-b3a00c4c21b0\",\"type\":\"ColumnDataSource\"},{\"attributes\":{\"label\":{\"value\":\"2014-11-28\"},\"renderers\":[{\"id\":\"50e19ba7-54d0-4d61-be08-15192f873870\",\"type\":\"GlyphRenderer\"}]},\"id\":\"d3483dfa-3256-4cd6-917d-1c009c40612c\",\"type\":\"LegendItem\"},{\"attributes\":{\"label\":{\"value\":\"2015-08-28\"},\"renderers\":[{\"id\":\"aa7a0687-6272-4c74-9bd1-30b5780e2235\",\"type\":\"GlyphRenderer\"}]},\"id\":\"ec343613-0e96-47d3-bc97-50833461baca\",\"type\":\"LegendItem\"},{\"attributes\":{},\"id\":\"3e76b38d-ce0c-4219-ba00-d3bd7cf5eac5\",\"type\":\"BasicTicker\"},{\"attributes\":{\"callback\":null,\"column_names\":[\"line_color\",\"line_alpha\",\"color\",\"fill_alpha\",\"height\",\"width\",\"y\",\"x\",\"label\"],\"data\":{\"chart_index\":[{\"date\":1443736800000.0}],\"color\":[\"#f22c40\"],\"date\":[1443736800000.0],\"fill_alpha\":[0.8],\"height\":[0.0],\"label\":[{\"date\":1443736800000.0}],\"line_alpha\":[1.0],\"line_color\":[\"white\"],\"width\":[0.8],\"x\":[\"2015-10-02\"],\"y\":[0.0]}},\"id\":\"b14177ab-e7f5-426f-99bb-87213e7dc610\",\"type\":\"ColumnDataSource\"},{\"attributes\":{\"label\":{\"value\":\"2015-02-20\"},\"renderers\":[{\"id\":\"331c04d3-871e-4374-a627-7b7c5da8afb9\",\"type\":\"GlyphRenderer\"}]},\"id\":\"27f8e120-7a3d-4cb9-88a8-c1238151125b\",\"type\":\"LegendItem\"},{\"attributes\":{\"data_source\":{\"id\":\"d7c13c0c-5e38-462f-947a-c9ebe86229c7\",\"type\":\"ColumnDataSource\"},\"glyph\":{\"id\":\"b270d164-413b-418f-8a78-a06ab7461f24\",\"type\":\"Rect\"},\"hover_glyph\":null,\"nonselection_glyph\":null,\"selection_glyph\":null},\"id\":\"b4e05c74-7e7a-466e-9498-fa5bddd5fa55\",\"type\":\"GlyphRenderer\"},{\"attributes\":{\"fill_alpha\":{\"field\":\"fill_alpha\"},\"fill_color\":{\"field\":\"color\"},\"height\":{\"field\":\"height\",\"units\":\"data\"},\"line_color\":{\"field\":\"line_color\"},\"width\":{\"field\":\"width\",\"units\":\"data\"},\"x\":{\"field\":\"x\"},\"y\":{\"field\":\"y\"}},\"id\":\"b50c3f9d-4d56-42dd-9a7a-8a519cc392dd\",\"type\":\"Rect\"},{\"attributes\":{\"label\":{\"value\":\"2015-04-03\"},\"renderers\":[{\"id\":\"e9c047ad-483b-4afd-86f4-7ae5a663e32a\",\"type\":\"GlyphRenderer\"}]},\"id\":\"2226e9f4-0a9b-4e58-aafe-00f68ff26287\",\"type\":\"LegendItem\"},{\"attributes\":{\"fill_alpha\":{\"field\":\"fill_alpha\"},\"fill_color\":{\"field\":\"color\"},\"height\":{\"field\":\"height\",\"units\":\"data\"},\"line_color\":{\"field\":\"line_color\"},\"width\":{\"field\":\"width\",\"units\":\"data\"},\"x\":{\"field\":\"x\"},\"y\":{\"field\":\"y\"}},\"id\":\"635d7fe9-9ceb-4317-be93-f914c2345ab9\",\"type\":\"Rect\"},{\"attributes\":{\"data_source\":{\"id\":\"90441020-9904-4c0a-996a-f722430edb10\",\"type\":\"ColumnDataSource\"},\"glyph\":{\"id\":\"c8272090-e7ca-47fe-9ef1-3d6c8dcab14c\",\"type\":\"Rect\"},\"hover_glyph\":null,\"nonselection_glyph\":null,\"selection_glyph\":null},\"id\":\"b622c83e-7f12-4762-90f4-c44ffebdb761\",\"type\":\"GlyphRenderer\"},{\"attributes\":{\"label\":{\"value\":\"2014-12-05\"},\"renderers\":[{\"id\":\"0b3e5ee4-db5f-472f-bf5b-3a50dcb82abe\",\"type\":\"GlyphRenderer\"}]},\"id\":\"84bbde9e-259d-46e0-8fc7-6a12c6468b15\",\"type\":\"LegendItem\"},{\"attributes\":{\"dimension\":1,\"plot\":{\"id\":\"04787d6d-3008-4576-87ae-d4e453f6aa39\",\"subtype\":\"Chart\",\"type\":\"Plot\"},\"ticker\":{\"id\":\"3e76b38d-ce0c-4219-ba00-d3bd7cf5eac5\",\"type\":\"BasicTicker\"}},\"id\":\"818ad5a3-b498-4dca-984a-62330b1f5c7a\",\"type\":\"Grid\"},{\"attributes\":{\"data_source\":{\"id\":\"2d7b50f6-c1dc-473b-ac5f-70e57533ffa2\",\"type\":\"ColumnDataSource\"},\"glyph\":{\"id\":\"ba9f0e1b-bb29-4bb0-be1d-2d9ae7100ca3\",\"type\":\"Rect\"},\"hover_glyph\":null,\"nonselection_glyph\":null,\"selection_glyph\":null},\"id\":\"e9c047ad-483b-4afd-86f4-7ae5a663e32a\",\"type\":\"GlyphRenderer\"},{\"attributes\":{},\"id\":\"1e54f64e-ae53-40ab-847c-8c05078acba2\",\"type\":\"BasicTickFormatter\"},{\"attributes\":{\"callback\":null,\"column_names\":[\"line_color\",\"line_alpha\",\"color\",\"fill_alpha\",\"height\",\"width\",\"y\",\"x\",\"label\"],\"data\":{\"chart_index\":[{\"date\":1432245600000.0}],\"color\":[\"#f22c40\"],\"date\":[1432245600000.0],\"fill_alpha\":[0.8],\"height\":[0.0],\"label\":[{\"date\":1432245600000.0}],\"line_alpha\":[1.0],\"line_color\":[\"white\"],\"width\":[0.8],\"x\":[\"2015-05-22\"],\"y\":[0.0]}},\"id\":\"95e8714a-b82c-4403-bafd-49b865065776\",\"type\":\"ColumnDataSource\"},{\"attributes\":{\"callback\":null,\"column_names\":[\"line_color\",\"line_alpha\",\"color\",\"fill_alpha\",\"height\",\"width\",\"y\",\"x\",\"label\"],\"data\":{\"chart_index\":[{\"date\":1441922400000.0}],\"color\":[\"#f22c40\"],\"date\":[1441922400000.0],\"fill_alpha\":[0.8],\"height\":[0.0],\"label\":[{\"date\":1441922400000.0}],\"line_alpha\":[1.0],\"line_color\":[\"white\"],\"width\":[0.8],\"x\":[\"2015-09-11\"],\"y\":[0.0]}},\"id\":\"37037121-09a5-44d4-9dac-2669459b4062\",\"type\":\"ColumnDataSource\"},{\"attributes\":{\"callback\":null,\"column_names\":[\"line_color\",\"line_alpha\",\"color\",\"fill_alpha\",\"height\",\"width\",\"y\",\"x\",\"label\"],\"data\":{\"chart_index\":[{\"date\":1418943600000.0}],\"color\":[\"#f22c40\"],\"date\":[1418943600000.0],\"fill_alpha\":[0.8],\"height\":[2.0],\"label\":[{\"date\":1418943600000.0}],\"line_alpha\":[1.0],\"line_color\":[\"white\"],\"width\":[0.8],\"x\":[\"2014-12-19\"],\"y\":[1.0]}},\"id\":\"4c58ae6f-a291-447d-abad-3b3fc076c4cb\",\"type\":\"ColumnDataSource\"},{\"attributes\":{\"callback\":null,\"column_names\":[\"line_color\",\"line_alpha\",\"color\",\"fill_alpha\",\"height\",\"width\",\"y\",\"x\",\"label\"],\"data\":{\"chart_index\":[{\"date\":1418338800000.0}],\"color\":[\"#f22c40\"],\"date\":[1418338800000.0],\"fill_alpha\":[0.8],\"height\":[0.0],\"label\":[{\"date\":1418338800000.0}],\"line_alpha\":[1.0],\"line_color\":[\"white\"],\"width\":[0.8],\"x\":[\"2014-12-12\"],\"y\":[0.0]}},\"id\":\"543fef0b-bd72-4013-b77f-2c4f95460b24\",\"type\":\"ColumnDataSource\"},{\"attributes\":{\"data_source\":{\"id\":\"8b0b9d0e-2679-45e5-a267-d18b4fbae0f0\",\"type\":\"ColumnDataSource\"},\"glyph\":{\"id\":\"e866073f-ae81-4030-be94-b0e56def97f5\",\"type\":\"Rect\"},\"hover_glyph\":null,\"nonselection_glyph\":null,\"selection_glyph\":null},\"id\":\"23a18f21-92d1-4867-b18c-6ca861e9ea55\",\"type\":\"GlyphRenderer\"},{\"attributes\":{\"fill_alpha\":{\"field\":\"fill_alpha\"},\"fill_color\":{\"field\":\"color\"},\"height\":{\"field\":\"height\",\"units\":\"data\"},\"line_color\":{\"field\":\"line_color\"},\"width\":{\"field\":\"width\",\"units\":\"data\"},\"x\":{\"field\":\"x\"},\"y\":{\"field\":\"y\"}},\"id\":\"f9c0cde1-bb35-4a9b-98c6-1e51a30e28d2\",\"type\":\"Rect\"},{\"attributes\":{\"label\":{\"value\":\"2015-08-07\"},\"renderers\":[{\"id\":\"d16fec13-59eb-4c36-a519-f7e8a5fee6c7\",\"type\":\"GlyphRenderer\"}]},\"id\":\"f161feaf-7786-4e85-ad35-af4caaf63a03\",\"type\":\"LegendItem\"},{\"attributes\":{\"fill_alpha\":{\"field\":\"fill_alpha\"},\"fill_color\":{\"field\":\"color\"},\"height\":{\"field\":\"height\",\"units\":\"data\"},\"line_color\":{\"field\":\"line_color\"},\"width\":{\"field\":\"width\",\"units\":\"data\"},\"x\":{\"field\":\"x\"},\"y\":{\"field\":\"y\"}},\"id\":\"e866073f-ae81-4030-be94-b0e56def97f5\",\"type\":\"Rect\"},{\"attributes\":{\"data_source\":{\"id\":\"a7140047-9bfc-46f9-881a-1ae305cc80ec\",\"type\":\"ColumnDataSource\"},\"glyph\":{\"id\":\"eee3684e-8175-40f7-8e5a-5e16098608b0\",\"type\":\"Rect\"},\"hover_glyph\":null,\"nonselection_glyph\":null,\"selection_glyph\":null},\"id\":\"22823813-1fba-4987-91e4-ac39a43e4e1f\",\"type\":\"GlyphRenderer\"},{\"attributes\":{\"data_source\":{\"id\":\"536ed45d-4b0c-43ad-b4b7-6fbe253717c7\",\"type\":\"ColumnDataSource\"},\"glyph\":{\"id\":\"a93c7a6f-ff94-497d-95bb-114629ebae29\",\"type\":\"Rect\"},\"hover_glyph\":null,\"nonselection_glyph\":null,\"selection_glyph\":null},\"id\":\"6834f89c-5217-4b0a-90de-ac041d32533b\",\"type\":\"GlyphRenderer\"},{\"attributes\":{\"label\":{\"value\":\"2015-07-24\"},\"renderers\":[{\"id\":\"23a18f21-92d1-4867-b18c-6ca861e9ea55\",\"type\":\"GlyphRenderer\"}]},\"id\":\"ff7cef25-9308-4317-b45a-206b4a137d0f\",\"type\":\"LegendItem\"},{\"attributes\":{\"callback\":null,\"end\":32.55},\"id\":\"1c2a73bf-da44-422d-ab53-ac6c053cf98b\",\"type\":\"Range1d\"},{\"attributes\":{\"data_source\":{\"id\":\"c6ba0f03-cc19-4f87-93ff-a6d1be004765\",\"type\":\"ColumnDataSource\"},\"glyph\":{\"id\":\"f987baf7-2d5f-45aa-b1f7-f58660c62e38\",\"type\":\"Rect\"},\"hover_glyph\":null,\"nonselection_glyph\":null,\"selection_glyph\":null},\"id\":\"8a5638b0-5a2b-4092-a5dc-17ca0bdeb171\",\"type\":\"GlyphRenderer\"},{\"attributes\":{\"fill_alpha\":{\"field\":\"fill_alpha\"},\"fill_color\":{\"field\":\"color\"},\"height\":{\"field\":\"height\",\"units\":\"data\"},\"line_color\":{\"field\":\"line_color\"},\"width\":{\"field\":\"width\",\"units\":\"data\"},\"x\":{\"field\":\"x\"},\"y\":{\"field\":\"y\"}},\"id\":\"37754746-ec5f-4f68-a77d-8830dbece9e1\",\"type\":\"Rect\"},{\"attributes\":{\"data_source\":{\"id\":\"96bb7c3b-1712-468c-a0e3-778f52535b1c\",\"type\":\"ColumnDataSource\"},\"glyph\":{\"id\":\"e3c34d8f-8efc-43c0-b688-b99b5ed0595d\",\"type\":\"Rect\"},\"hover_glyph\":null,\"nonselection_glyph\":null,\"selection_glyph\":null},\"id\":\"f8ea4856-d78c-4998-b8b9-683b6fb5f1ac\",\"type\":\"GlyphRenderer\"},{\"attributes\":{\"fill_alpha\":{\"field\":\"fill_alpha\"},\"fill_color\":{\"field\":\"color\"},\"height\":{\"field\":\"height\",\"units\":\"data\"},\"line_color\":{\"field\":\"line_color\"},\"width\":{\"field\":\"width\",\"units\":\"data\"},\"x\":{\"field\":\"x\"},\"y\":{\"field\":\"y\"}},\"id\":\"1eca9a79-af36-4734-a9e3-55fd6af06661\",\"type\":\"Rect\"},{\"attributes\":{\"fill_alpha\":{\"field\":\"fill_alpha\"},\"fill_color\":{\"field\":\"color\"},\"height\":{\"field\":\"height\",\"units\":\"data\"},\"line_color\":{\"field\":\"line_color\"},\"width\":{\"field\":\"width\",\"units\":\"data\"},\"x\":{\"field\":\"x\"},\"y\":{\"field\":\"y\"}},\"id\":\"ea338201-0fb7-4d71-9785-ff5d734fd27c\",\"type\":\"Rect\"},{\"attributes\":{\"data_source\":{\"id\":\"55624b29-1a21-4dc1-bde2-25032fb03af9\",\"type\":\"ColumnDataSource\"},\"glyph\":{\"id\":\"ad2e7488-e481-4509-8599-7ae35804deb8\",\"type\":\"Rect\"},\"hover_glyph\":null,\"nonselection_glyph\":null,\"selection_glyph\":null},\"id\":\"d2b27f7e-b176-4103-a943-411a029476b1\",\"type\":\"GlyphRenderer\"},{\"attributes\":{\"bottom_units\":\"screen\",\"fill_alpha\":{\"value\":0.5},\"fill_color\":{\"value\":\"lightgrey\"},\"left_units\":\"screen\",\"level\":\"overlay\",\"line_alpha\":{\"value\":1.0},\"line_color\":{\"value\":\"black\"},\"line_dash\":[4,4],\"line_width\":{\"value\":2},\"plot\":null,\"render_mode\":\"css\",\"right_units\":\"screen\",\"top_units\":\"screen\"},\"id\":\"a2b3e4da-fa9f-40c8-8d87-08f84e7d5730\",\"type\":\"BoxAnnotation\"},{\"attributes\":{\"callback\":null,\"column_names\":[\"line_color\",\"line_alpha\",\"color\",\"fill_alpha\",\"height\",\"width\",\"y\",\"x\",\"label\"],\"data\":{\"chart_index\":[{\"date\":1434060000000.0}],\"color\":[\"#f22c40\"],\"date\":[1434060000000.0],\"fill_alpha\":[0.8],\"height\":[0.0],\"label\":[{\"date\":1434060000000.0}],\"line_alpha\":[1.0],\"line_color\":[\"white\"],\"width\":[0.8],\"x\":[\"2015-06-12\"],\"y\":[0.0]}},\"id\":\"d7c13c0c-5e38-462f-947a-c9ebe86229c7\",\"type\":\"ColumnDataSource\"},{\"attributes\":{\"callback\":null,\"column_names\":[\"line_color\",\"line_alpha\",\"color\",\"fill_alpha\",\"height\",\"width\",\"y\",\"x\",\"label\"],\"data\":{\"chart_index\":[{\"date\":1440108000000.0}],\"color\":[\"#f22c40\"],\"date\":[1440108000000.0],\"fill_alpha\":[0.8],\"height\":[1.0],\"label\":[{\"date\":1440108000000.0}],\"line_alpha\":[1.0],\"line_color\":[\"white\"],\"width\":[0.8],\"x\":[\"2015-08-21\"],\"y\":[0.5]}},\"id\":\"63ed5564-dbbf-4468-9ff0-7a8db0354654\",\"type\":\"ColumnDataSource\"},{\"attributes\":{\"callback\":null,\"column_names\":[\"line_color\",\"line_alpha\",\"color\",\"fill_alpha\",\"height\",\"width\",\"y\",\"x\",\"label\"],\"data\":{\"chart_index\":[{\"date\":1433455200000.0}],\"color\":[\"#f22c40\"],\"date\":[1433455200000.0],\"fill_alpha\":[0.8],\"height\":[0.0],\"label\":[{\"date\":1433455200000.0}],\"line_alpha\":[1.0],\"line_color\":[\"white\"],\"width\":[0.8],\"x\":[\"2015-06-05\"],\"y\":[0.0]}},\"id\":\"71c96b01-a863-4acb-8c8b-718e09d8343f\",\"type\":\"ColumnDataSource\"},{\"attributes\":{\"label\":{\"value\":\"2015-09-18\"},\"renderers\":[{\"id\":\"d2b27f7e-b176-4103-a943-411a029476b1\",\"type\":\"GlyphRenderer\"}]},\"id\":\"3feb641c-9659-4010-aa60-66751a929603\",\"type\":\"LegendItem\"},{\"attributes\":{\"data_source\":{\"id\":\"95e8714a-b82c-4403-bafd-49b865065776\",\"type\":\"ColumnDataSource\"},\"glyph\":{\"id\":\"c45d8075-0c7d-460c-aeda-614dcf550d90\",\"type\":\"Rect\"},\"hover_glyph\":null,\"nonselection_glyph\":null,\"selection_glyph\":null},\"id\":\"f082cca7-a94d-4c45-8bc4-54708f2e26e7\",\"type\":\"GlyphRenderer\"},{\"attributes\":{\"callback\":null,\"column_names\":[\"line_color\",\"line_alpha\",\"color\",\"fill_alpha\",\"height\",\"width\",\"y\",\"x\",\"label\"],\"data\":{\"chart_index\":[{\"date\":1438898400000.0}],\"color\":[\"#f22c40\"],\"date\":[1438898400000.0],\"fill_alpha\":[0.8],\"height\":[0.0],\"label\":[{\"date\":1438898400000.0}],\"line_alpha\":[1.0],\"line_color\":[\"white\"],\"width\":[0.8],\"x\":[\"2015-08-07\"],\"y\":[0.0]}},\"id\":\"5303ef9f-c742-4f2f-bfe7-a2de4e606c41\",\"type\":\"ColumnDataSource\"},{\"attributes\":{\"fill_alpha\":{\"field\":\"fill_alpha\"},\"fill_color\":{\"field\":\"color\"},\"height\":{\"field\":\"height\",\"units\":\"data\"},\"line_color\":{\"field\":\"line_color\"},\"width\":{\"field\":\"width\",\"units\":\"data\"},\"x\":{\"field\":\"x\"},\"y\":{\"field\":\"y\"}},\"id\":\"c45d8075-0c7d-460c-aeda-614dcf550d90\",\"type\":\"Rect\"},{\"attributes\":{\"data_source\":{\"id\":\"8c764ba0-257d-4e98-aa69-cb22a7ec497c\",\"type\":\"ColumnDataSource\"},\"glyph\":{\"id\":\"dda1fbfc-b23f-45ea-82c7-8a5a8eba8d90\",\"type\":\"Rect\"},\"hover_glyph\":null,\"nonselection_glyph\":null,\"selection_glyph\":null},\"id\":\"881f2bd5-4fdb-4e00-9073-ab0e17ed83e0\",\"type\":\"GlyphRenderer\"},{\"attributes\":{\"label\":{\"value\":\"2015-01-16\"},\"renderers\":[{\"id\":\"6834f89c-5217-4b0a-90de-ac041d32533b\",\"type\":\"GlyphRenderer\"}]},\"id\":\"218fdca8-7e96-46e0-bc09-52131babd3da\",\"type\":\"LegendItem\"},{\"attributes\":{\"callback\":null,\"column_names\":[\"line_color\",\"line_alpha\",\"color\",\"fill_alpha\",\"height\",\"width\",\"y\",\"x\",\"label\"],\"data\":{\"chart_index\":[{\"date\":1428012000000.0}],\"color\":[\"#f22c40\"],\"date\":[1428012000000.0],\"fill_alpha\":[0.8],\"height\":[5.0],\"label\":[{\"date\":1428012000000.0}],\"line_alpha\":[1.0],\"line_color\":[\"white\"],\"width\":[0.8],\"x\":[\"2015-04-03\"],\"y\":[2.5]}},\"id\":\"2d7b50f6-c1dc-473b-ac5f-70e57533ffa2\",\"type\":\"ColumnDataSource\"},{\"attributes\":{\"callback\":null,\"column_names\":[\"line_color\",\"line_alpha\",\"color\",\"fill_alpha\",\"height\",\"width\",\"y\",\"x\",\"label\"],\"data\":{\"chart_index\":[{\"date\":1447974000000.0}],\"color\":[\"#f22c40\"],\"date\":[1447974000000.0],\"fill_alpha\":[0.8],\"height\":[0.0],\"label\":[{\"date\":1447974000000.0}],\"line_alpha\":[1.0],\"line_color\":[\"white\"],\"width\":[0.8],\"x\":[\"2015-11-20\"],\"y\":[0.0]}},\"id\":\"bfd90f14-eed3-4c7b-b1fe-65082916d843\",\"type\":\"ColumnDataSource\"},{\"attributes\":{\"callback\":null,\"factors\":[\"2014-11-28\",\"2014-12-05\",\"2014-12-12\",\"2014-12-19\",\"2014-12-26\",\"2015-01-02\",\"2015-01-09\",\"2015-01-16\",\"2015-01-23\",\"2015-01-30\",\"2015-02-06\",\"2015-02-13\",\"2015-02-20\",\"2015-02-27\",\"2015-03-06\",\"2015-03-13\",\"2015-03-20\",\"2015-03-27\",\"2015-04-03\",\"2015-04-10\",\"2015-04-17\",\"2015-04-24\",\"2015-05-01\",\"2015-05-08\",\"2015-05-15\",\"2015-05-22\",\"2015-05-29\",\"2015-06-05\",\"2015-06-12\",\"2015-06-19\",\"2015-06-26\",\"2015-07-03\",\"2015-07-10\",\"2015-07-17\",\"2015-07-24\",\"2015-07-31\",\"2015-08-07\",\"2015-08-14\",\"2015-08-21\",\"2015-08-28\",\"2015-09-04\",\"2015-09-11\",\"2015-09-18\",\"2015-09-25\",\"2015-10-02\",\"2015-10-09\",\"2015-10-16\",\"2015-10-23\",\"2015-10-30\",\"2015-11-06\",\"2015-11-13\",\"2015-11-20\"]},\"id\":\"434d5ab4-0348-4914-bcde-fef5ac498026\",\"type\":\"FactorRange\"},{\"attributes\":{\"data_source\":{\"id\":\"67f5d775-32af-43f3-9d28-f38289758bd0\",\"type\":\"ColumnDataSource\"},\"glyph\":{\"id\":\"2a3df459-fb35-4894-a6ae-721b0a6d586c\",\"type\":\"Rect\"},\"hover_glyph\":null,\"nonselection_glyph\":null,\"selection_glyph\":null},\"id\":\"21745bf3-2c4a-44eb-b741-e7d1a2e3a3a3\",\"type\":\"GlyphRenderer\"},{\"attributes\":{\"callback\":null,\"column_names\":[\"line_color\",\"line_alpha\",\"color\",\"fill_alpha\",\"height\",\"width\",\"y\",\"x\",\"label\"],\"data\":{\"chart_index\":[{\"date\":1443132000000.0}],\"color\":[\"#f22c40\"],\"date\":[1443132000000.0],\"fill_alpha\":[0.8],\"height\":[0.0],\"label\":[{\"date\":1443132000000.0}],\"line_alpha\":[1.0],\"line_color\":[\"white\"],\"width\":[0.8],\"x\":[\"2015-09-25\"],\"y\":[0.0]}},\"id\":\"92d7e3f6-51de-4f66-8a43-585fc9f86437\",\"type\":\"ColumnDataSource\"},{\"attributes\":{\"fill_alpha\":{\"field\":\"fill_alpha\"},\"fill_color\":{\"field\":\"color\"},\"height\":{\"field\":\"height\",\"units\":\"data\"},\"line_color\":{\"field\":\"line_color\"},\"width\":{\"field\":\"width\",\"units\":\"data\"},\"x\":{\"field\":\"x\"},\"y\":{\"field\":\"y\"}},\"id\":\"9a5c3877-1b82-44eb-8a25-5d927b071adc\",\"type\":\"Rect\"},{\"attributes\":{\"data_source\":{\"id\":\"90998316-90c9-4232-83de-d74945619180\",\"type\":\"ColumnDataSource\"},\"glyph\":{\"id\":\"668cd3f9-7d2e-4d77-bfe6-c5b8c54b29f3\",\"type\":\"Rect\"},\"hover_glyph\":null,\"nonselection_glyph\":null,\"selection_glyph\":null},\"id\":\"cb87120c-16b3-40ff-8238-ddb3a199823c\",\"type\":\"GlyphRenderer\"},{\"attributes\":{\"label\":{\"value\":\"2015-10-16\"},\"renderers\":[{\"id\":\"cb87120c-16b3-40ff-8238-ddb3a199823c\",\"type\":\"GlyphRenderer\"}]},\"id\":\"d4c93654-85d9-4aae-b1b7-b7cb7a4ec76a\",\"type\":\"LegendItem\"},{\"attributes\":{\"label\":{\"value\":\"2015-10-09\"},\"renderers\":[{\"id\":\"a447bbea-9903-4b0c-8c1a-9e42b3d70451\",\"type\":\"GlyphRenderer\"}]},\"id\":\"990b09bf-8c6d-4408-8707-a1ca2f023271\",\"type\":\"LegendItem\"},{\"attributes\":{\"data_source\":{\"id\":\"fa1a84a7-e40f-40fd-bb4e-f49ff5172072\",\"type\":\"ColumnDataSource\"},\"glyph\":{\"id\":\"312c0e82-6d47-48a6-a86c-a8bfcd641f96\",\"type\":\"Rect\"},\"hover_glyph\":null,\"nonselection_glyph\":null,\"selection_glyph\":null},\"id\":\"c9c8e6d9-9ceb-4838-bcd3-571d262c2d9e\",\"type\":\"GlyphRenderer\"},{\"attributes\":{\"data_source\":{\"id\":\"4a53fa25-5a1b-4807-92bf-f1a6ed6f847e\",\"type\":\"ColumnDataSource\"},\"glyph\":{\"id\":\"11948d3c-c0e1-41bf-9155-02a7c192c67a\",\"type\":\"Rect\"},\"hover_glyph\":null,\"nonselection_glyph\":null,\"selection_glyph\":null},\"id\":\"a8e9f200-c3f8-4158-b25c-866a85fd4a77\",\"type\":\"GlyphRenderer\"},{\"attributes\":{\"fill_alpha\":{\"field\":\"fill_alpha\"},\"fill_color\":{\"field\":\"color\"},\"height\":{\"field\":\"height\",\"units\":\"data\"},\"line_color\":{\"field\":\"line_color\"},\"width\":{\"field\":\"width\",\"units\":\"data\"},\"x\":{\"field\":\"x\"},\"y\":{\"field\":\"y\"}},\"id\":\"99ddad44-9827-4759-9b44-cd861e5c9c2f\",\"type\":\"Rect\"},{\"attributes\":{\"data_source\":{\"id\":\"a9e4fd4a-656b-4b5c-b560-39fee3733ecd\",\"type\":\"ColumnDataSource\"},\"glyph\":{\"id\":\"7c5c4671-7d48-43fb-8d93-a17ecc43c891\",\"type\":\"Rect\"},\"hover_glyph\":null,\"nonselection_glyph\":null,\"selection_glyph\":null},\"id\":\"a447bbea-9903-4b0c-8c1a-9e42b3d70451\",\"type\":\"GlyphRenderer\"},{\"attributes\":{},\"id\":\"3c2a1e84-2932-44bc-8756-10055adcc2c5\",\"type\":\"CategoricalTicker\"},{\"attributes\":{\"data_source\":{\"id\":\"1cb8df78-ad9b-46bf-8902-221b356a2db9\",\"type\":\"ColumnDataSource\"},\"glyph\":{\"id\":\"f9c0cde1-bb35-4a9b-98c6-1e51a30e28d2\",\"type\":\"Rect\"},\"hover_glyph\":null,\"nonselection_glyph\":null,\"selection_glyph\":null},\"id\":\"3f20c244-c9e7-4215-a5d2-6990cc86e596\",\"type\":\"GlyphRenderer\"},{\"attributes\":{\"label\":{\"value\":\"2015-04-24\"},\"renderers\":[{\"id\":\"add484a6-c1b9-4ff8-82c2-836cebec059f\",\"type\":\"GlyphRenderer\"}]},\"id\":\"0f63ebfe-3cde-4de2-aee6-b04549bbc127\",\"type\":\"LegendItem\"},{\"attributes\":{\"fill_alpha\":{\"field\":\"fill_alpha\"},\"fill_color\":{\"field\":\"color\"},\"height\":{\"field\":\"height\",\"units\":\"data\"},\"line_color\":{\"field\":\"line_color\"},\"width\":{\"field\":\"width\",\"units\":\"data\"},\"x\":{\"field\":\"x\"},\"y\":{\"field\":\"y\"}},\"id\":\"80c89287-afca-47b1-9822-23d6cbe821f8\",\"type\":\"Rect\"},{\"attributes\":{\"label\":{\"value\":\"2015-08-14\"},\"renderers\":[{\"id\":\"9b22a614-12bf-4063-94f3-adad8b6344cb\",\"type\":\"GlyphRenderer\"}]},\"id\":\"e1a7663c-92f6-4246-aa5b-290341200f28\",\"type\":\"LegendItem\"},{\"attributes\":{\"callback\":null,\"column_names\":[\"line_color\",\"line_alpha\",\"color\",\"fill_alpha\",\"height\",\"width\",\"y\",\"x\",\"label\"],\"data\":{\"chart_index\":[{\"date\":1435874400000.0}],\"color\":[\"#f22c40\"],\"date\":[1435874400000.0],\"fill_alpha\":[0.8],\"height\":[6.0],\"label\":[{\"date\":1435874400000.0}],\"line_alpha\":[1.0],\"line_color\":[\"white\"],\"width\":[0.8],\"x\":[\"2015-07-03\"],\"y\":[3.0]}},\"id\":\"f5c5b1e1-082f-4b5f-8e03-3f2c2a796dae\",\"type\":\"ColumnDataSource\"},{\"attributes\":{\"data_source\":{\"id\":\"015abb2a-007f-4d78-89bd-d7817ef880ab\",\"type\":\"ColumnDataSource\"},\"glyph\":{\"id\":\"624a6d10-9340-4a70-b5df-77756c042a1f\",\"type\":\"Rect\"},\"hover_glyph\":null,\"nonselection_glyph\":null,\"selection_glyph\":null},\"id\":\"9b22a614-12bf-4063-94f3-adad8b6344cb\",\"type\":\"GlyphRenderer\"},{\"attributes\":{\"callback\":null,\"column_names\":[\"line_color\",\"line_alpha\",\"color\",\"fill_alpha\",\"height\",\"width\",\"y\",\"x\",\"label\"],\"data\":{\"chart_index\":[{\"date\":1442527200000.0}],\"color\":[\"#f22c40\"],\"date\":[1442527200000.0],\"fill_alpha\":[0.8],\"height\":[1.0],\"label\":[{\"date\":1442527200000.0}],\"line_alpha\":[1.0],\"line_color\":[\"white\"],\"width\":[0.8],\"x\":[\"2015-09-18\"],\"y\":[0.5]}},\"id\":\"55624b29-1a21-4dc1-bde2-25032fb03af9\",\"type\":\"ColumnDataSource\"},{\"attributes\":{\"data_source\":{\"id\":\"543fef0b-bd72-4013-b77f-2c4f95460b24\",\"type\":\"ColumnDataSource\"},\"glyph\":{\"id\":\"29254a6c-f775-4677-a17b-0f9a6b1073d2\",\"type\":\"Rect\"},\"hover_glyph\":null,\"nonselection_glyph\":null,\"selection_glyph\":null},\"id\":\"f6b32bcd-97ba-499a-9a4e-f72ee007eae1\",\"type\":\"GlyphRenderer\"},{\"attributes\":{\"fill_alpha\":{\"field\":\"fill_alpha\"},\"fill_color\":{\"field\":\"color\"},\"height\":{\"field\":\"height\",\"units\":\"data\"},\"line_color\":{\"field\":\"line_color\"},\"width\":{\"field\":\"width\",\"units\":\"data\"},\"x\":{\"field\":\"x\"},\"y\":{\"field\":\"y\"}},\"id\":\"1b6be01c-7512-4ed9-bcb4-6bceeccadd5d\",\"type\":\"Rect\"},{\"attributes\":{\"fill_alpha\":{\"field\":\"fill_alpha\"},\"fill_color\":{\"field\":\"color\"},\"height\":{\"field\":\"height\",\"units\":\"data\"},\"line_color\":{\"field\":\"line_color\"},\"width\":{\"field\":\"width\",\"units\":\"data\"},\"x\":{\"field\":\"x\"},\"y\":{\"field\":\"y\"}},\"id\":\"f987baf7-2d5f-45aa-b1f7-f58660c62e38\",\"type\":\"Rect\"},{\"attributes\":{\"callback\":null,\"column_names\":[\"line_color\",\"line_alpha\",\"color\",\"fill_alpha\",\"height\",\"width\",\"y\",\"x\",\"label\"],\"data\":{\"chart_index\":[{\"date\":1430431200000.0}],\"color\":[\"#f22c40\"],\"date\":[1430431200000.0],\"fill_alpha\":[0.8],\"height\":[1.0],\"label\":[{\"date\":1430431200000.0}],\"line_alpha\":[1.0],\"line_color\":[\"white\"],\"width\":[0.8],\"x\":[\"2015-05-01\"],\"y\":[0.5]}},\"id\":\"6a7ac076-6e8c-4ac8-9bed-751c95e772e0\",\"type\":\"ColumnDataSource\"},{\"attributes\":{\"data_source\":{\"id\":\"92d7e3f6-51de-4f66-8a43-585fc9f86437\",\"type\":\"ColumnDataSource\"},\"glyph\":{\"id\":\"1ca5e5d3-c93d-4c18-a179-800a5c2237e6\",\"type\":\"Rect\"},\"hover_glyph\":null,\"nonselection_glyph\":null,\"selection_glyph\":null},\"id\":\"530864fa-a352-4cf0-817a-72007d24df66\",\"type\":\"GlyphRenderer\"},{\"attributes\":{\"callback\":null,\"column_names\":[\"line_color\",\"line_alpha\",\"color\",\"fill_alpha\",\"height\",\"width\",\"y\",\"x\",\"label\"],\"data\":{\"chart_index\":[{\"date\":1439503200000.0}],\"color\":[\"#f22c40\"],\"date\":[1439503200000.0],\"fill_alpha\":[0.8],\"height\":[0.0],\"label\":[{\"date\":1439503200000.0}],\"line_alpha\":[1.0],\"line_color\":[\"white\"],\"width\":[0.8],\"x\":[\"2015-08-14\"],\"y\":[0.0]}},\"id\":\"015abb2a-007f-4d78-89bd-d7817ef880ab\",\"type\":\"ColumnDataSource\"},{\"attributes\":{\"label\":{\"value\":\"2015-02-27\"},\"renderers\":[{\"id\":\"c550a8fa-ea0d-40c0-84a6-f60a68af83e8\",\"type\":\"GlyphRenderer\"}]},\"id\":\"5ff11be8-38cb-460b-ad9d-21a3c61e5c19\",\"type\":\"LegendItem\"},{\"attributes\":{\"data_source\":{\"id\":\"a12e8c37-58f8-4a6f-b310-032d9d769595\",\"type\":\"ColumnDataSource\"},\"glyph\":{\"id\":\"99ddad44-9827-4759-9b44-cd861e5c9c2f\",\"type\":\"Rect\"},\"hover_glyph\":null,\"nonselection_glyph\":null,\"selection_glyph\":null},\"id\":\"331c04d3-871e-4374-a627-7b7c5da8afb9\",\"type\":\"GlyphRenderer\"},{\"attributes\":{\"fill_alpha\":{\"field\":\"fill_alpha\"},\"fill_color\":{\"field\":\"color\"},\"height\":{\"field\":\"height\",\"units\":\"data\"},\"line_color\":{\"field\":\"line_color\"},\"width\":{\"field\":\"width\",\"units\":\"data\"},\"x\":{\"field\":\"x\"},\"y\":{\"field\":\"y\"}},\"id\":\"668cd3f9-7d2e-4d77-bfe6-c5b8c54b29f3\",\"type\":\"Rect\"},{\"attributes\":{\"plot\":{\"id\":\"04787d6d-3008-4576-87ae-d4e453f6aa39\",\"subtype\":\"Chart\",\"type\":\"Plot\"}},\"id\":\"ae9e2d15-a072-4282-8618-f2c28700d17f\",\"type\":\"WheelZoomTool\"},{\"attributes\":{\"label\":{\"value\":\"2015-09-11\"},\"renderers\":[{\"id\":\"d46dab6c-a873-4e67-8cea-acc45ddcdbea\",\"type\":\"GlyphRenderer\"}]},\"id\":\"33d4130b-2f92-49a9-968f-db2189165e19\",\"type\":\"LegendItem\"},{\"attributes\":{\"data_source\":{\"id\":\"37037121-09a5-44d4-9dac-2669459b4062\",\"type\":\"ColumnDataSource\"},\"glyph\":{\"id\":\"7f4d8382-943e-48dd-acac-884f4a66f419\",\"type\":\"Rect\"},\"hover_glyph\":null,\"nonselection_glyph\":null,\"selection_glyph\":null},\"id\":\"d46dab6c-a873-4e67-8cea-acc45ddcdbea\",\"type\":\"GlyphRenderer\"},{\"attributes\":{\"fill_alpha\":{\"field\":\"fill_alpha\"},\"fill_color\":{\"field\":\"color\"},\"height\":{\"field\":\"height\",\"units\":\"data\"},\"line_color\":{\"field\":\"line_color\"},\"width\":{\"field\":\"width\",\"units\":\"data\"},\"x\":{\"field\":\"x\"},\"y\":{\"field\":\"y\"}},\"id\":\"1ca5e5d3-c93d-4c18-a179-800a5c2237e6\",\"type\":\"Rect\"},{\"attributes\":{\"fill_alpha\":{\"field\":\"fill_alpha\"},\"fill_color\":{\"field\":\"color\"},\"height\":{\"field\":\"height\",\"units\":\"data\"},\"line_color\":{\"field\":\"line_color\"},\"width\":{\"field\":\"width\",\"units\":\"data\"},\"x\":{\"field\":\"x\"},\"y\":{\"field\":\"y\"}},\"id\":\"785b050e-93ab-494e-b1e3-42099de827d6\",\"type\":\"Rect\"},{\"attributes\":{\"label\":{\"value\":\"2015-03-20\"},\"renderers\":[{\"id\":\"22e96fe5-f224-4c6e-9526-04c28008d59b\",\"type\":\"GlyphRenderer\"}]},\"id\":\"793c2676-f692-4911-b299-150c8b1d2bf5\",\"type\":\"LegendItem\"},{\"attributes\":{\"callback\":null,\"column_names\":[\"line_color\",\"line_alpha\",\"color\",\"fill_alpha\",\"height\",\"width\",\"y\",\"x\",\"label\"],\"data\":{\"chart_index\":[{\"date\":1431036000000.0}],\"color\":[\"#f22c40\"],\"date\":[1431036000000.0],\"fill_alpha\":[0.8],\"height\":[1.0],\"label\":[{\"date\":1431036000000.0}],\"line_alpha\":[1.0],\"line_color\":[\"white\"],\"width\":[0.8],\"x\":[\"2015-05-08\"],\"y\":[0.5]}},\"id\":\"d0df64ea-9e66-41f7-90c8-17e5c1b4cd99\",\"type\":\"ColumnDataSource\"},{\"attributes\":{\"callback\":null,\"column_names\":[\"line_color\",\"line_alpha\",\"color\",\"fill_alpha\",\"height\",\"width\",\"y\",\"x\",\"label\"],\"data\":{\"chart_index\":[{\"date\":1423782000000.0}],\"color\":[\"#f22c40\"],\"date\":[1423782000000.0],\"fill_alpha\":[0.8],\"height\":[1.0],\"label\":[{\"date\":1423782000000.0}],\"line_alpha\":[1.0],\"line_color\":[\"white\"],\"width\":[0.8],\"x\":[\"2015-02-13\"],\"y\":[0.5]}},\"id\":\"76d7e6e2-2255-4eb1-8bb4-c8938d6c2e45\",\"type\":\"ColumnDataSource\"},{\"attributes\":{\"label\":{\"value\":\"2015-11-13\"},\"renderers\":[{\"id\":\"6e954c02-e8fa-4a79-9e50-9103244007a1\",\"type\":\"GlyphRenderer\"}]},\"id\":\"1bb36ca3-4b86-400f-832e-a1dc0d5dbaae\",\"type\":\"LegendItem\"},{\"attributes\":{\"items\":[{\"id\":\"d3483dfa-3256-4cd6-917d-1c009c40612c\",\"type\":\"LegendItem\"},{\"id\":\"84bbde9e-259d-46e0-8fc7-6a12c6468b15\",\"type\":\"LegendItem\"},{\"id\":\"a40d143c-3024-4083-b382-7dd248f9fc7e\",\"type\":\"LegendItem\"},{\"id\":\"66c40082-d94f-42c4-80f7-57ec8ad2400f\",\"type\":\"LegendItem\"},{\"id\":\"7a2fa592-91fa-4cc0-841d-b8266ace04f4\",\"type\":\"LegendItem\"},{\"id\":\"7856f1cd-3e65-4f9b-8650-65be0668db8d\",\"type\":\"LegendItem\"},{\"id\":\"1a40d767-6bc3-411b-9c76-3b4179122973\",\"type\":\"LegendItem\"},{\"id\":\"218fdca8-7e96-46e0-bc09-52131babd3da\",\"type\":\"LegendItem\"},{\"id\":\"998eb7aa-4400-40a6-b60f-3f0b1eb3092f\",\"type\":\"LegendItem\"},{\"id\":\"2e4f59da-5235-4ba2-b930-976c6d2bba2b\",\"type\":\"LegendItem\"},{\"id\":\"8d234c45-5906-4cb3-b6f9-fd8f45bc26f7\",\"type\":\"LegendItem\"},{\"id\":\"49a1c79f-3c7e-4313-9205-0f5ba61fc5ae\",\"type\":\"LegendItem\"},{\"id\":\"27f8e120-7a3d-4cb9-88a8-c1238151125b\",\"type\":\"LegendItem\"},{\"id\":\"5ff11be8-38cb-460b-ad9d-21a3c61e5c19\",\"type\":\"LegendItem\"},{\"id\":\"9ed48d70-84c2-4857-afc1-5729d2bce9dd\",\"type\":\"LegendItem\"},{\"id\":\"9250baaf-4122-4420-87a7-237f5c592135\",\"type\":\"LegendItem\"},{\"id\":\"793c2676-f692-4911-b299-150c8b1d2bf5\",\"type\":\"LegendItem\"},{\"id\":\"a30946bd-b437-4973-947d-29be63495c31\",\"type\":\"LegendItem\"},{\"id\":\"2226e9f4-0a9b-4e58-aafe-00f68ff26287\",\"type\":\"LegendItem\"},{\"id\":\"d36acc3f-0e26-4869-b7d5-3156b5dafe70\",\"type\":\"LegendItem\"},{\"id\":\"53ee3473-f4ae-4b74-b9d5-88d32b07c72f\",\"type\":\"LegendItem\"},{\"id\":\"0f63ebfe-3cde-4de2-aee6-b04549bbc127\",\"type\":\"LegendItem\"},{\"id\":\"1fb2ce4a-ef34-4b2f-ba3b-48294ffd523a\",\"type\":\"LegendItem\"},{\"id\":\"00b726ff-8e07-42e6-94ea-10ce563249e8\",\"type\":\"LegendItem\"},{\"id\":\"f9fbca42-0253-4caf-9937-5596799472af\",\"type\":\"LegendItem\"},{\"id\":\"1de8cb35-852e-44ff-be0a-77e2f362ccdd\",\"type\":\"LegendItem\"},{\"id\":\"78c68008-7c5c-420d-a747-6e73bc5cfacb\",\"type\":\"LegendItem\"},{\"id\":\"55c7702c-454f-45c9-b44b-0236a9530d22\",\"type\":\"LegendItem\"},{\"id\":\"9c4586de-df7a-48a3-b514-f52a4e430302\",\"type\":\"LegendItem\"},{\"id\":\"d697d7d2-57f1-4873-b2ad-e2fd4ce71bb1\",\"type\":\"LegendItem\"},{\"id\":\"66e8a390-7ad6-4a6c-95f8-959e7298f985\",\"type\":\"LegendItem\"},{\"id\":\"a3b6c326-b56b-4aab-841d-55e20e4a4d37\",\"type\":\"LegendItem\"},{\"id\":\"bf486d81-b7f4-4dc3-b463-34fd3d2736b1\",\"type\":\"LegendItem\"},{\"id\":\"7b00047e-dd53-4b7d-b52a-86f2a27cad95\",\"type\":\"LegendItem\"},{\"id\":\"ff7cef25-9308-4317-b45a-206b4a137d0f\",\"type\":\"LegendItem\"},{\"id\":\"2917d117-c38d-47ca-acec-516a31470b87\",\"type\":\"LegendItem\"},{\"id\":\"f161feaf-7786-4e85-ad35-af4caaf63a03\",\"type\":\"LegendItem\"},{\"id\":\"e1a7663c-92f6-4246-aa5b-290341200f28\",\"type\":\"LegendItem\"},{\"id\":\"4cf40794-c4a2-4f46-98f3-574e5c303652\",\"type\":\"LegendItem\"},{\"id\":\"ec343613-0e96-47d3-bc97-50833461baca\",\"type\":\"LegendItem\"},{\"id\":\"7f870abd-341a-41df-94c3-562031a83eed\",\"type\":\"LegendItem\"},{\"id\":\"33d4130b-2f92-49a9-968f-db2189165e19\",\"type\":\"LegendItem\"},{\"id\":\"3feb641c-9659-4010-aa60-66751a929603\",\"type\":\"LegendItem\"},{\"id\":\"3749f799-287b-4430-904c-65c9b98f9df9\",\"type\":\"LegendItem\"},{\"id\":\"3e25395c-6e53-4faf-851e-3979fb2ddfa7\",\"type\":\"LegendItem\"},{\"id\":\"990b09bf-8c6d-4408-8707-a1ca2f023271\",\"type\":\"LegendItem\"},{\"id\":\"d4c93654-85d9-4aae-b1b7-b7cb7a4ec76a\",\"type\":\"LegendItem\"},{\"id\":\"5dc6d8f7-db0f-497a-836b-5ea91f0717ae\",\"type\":\"LegendItem\"},{\"id\":\"f6fd81ea-96ff-47ed-8d6c-bade2dc43281\",\"type\":\"LegendItem\"},{\"id\":\"fcf21e65-4c30-4aab-b54e-0af655fe7357\",\"type\":\"LegendItem\"},{\"id\":\"1bb36ca3-4b86-400f-832e-a1dc0d5dbaae\",\"type\":\"LegendItem\"},{\"id\":\"ecb7b07a-3aa8-41ac-b9af-e31cacb477e4\",\"type\":\"LegendItem\"}],\"location\":\"top_left\",\"plot\":{\"id\":\"04787d6d-3008-4576-87ae-d4e453f6aa39\",\"subtype\":\"Chart\",\"type\":\"Plot\"}},\"id\":\"0595e5ce-c127-4d19-b7c4-dca4c4b4baa7\",\"type\":\"Legend\"},{\"attributes\":{\"fill_alpha\":{\"field\":\"fill_alpha\"},\"fill_color\":{\"field\":\"color\"},\"height\":{\"field\":\"height\",\"units\":\"data\"},\"line_color\":{\"field\":\"line_color\"},\"width\":{\"field\":\"width\",\"units\":\"data\"},\"x\":{\"field\":\"x\"},\"y\":{\"field\":\"y\"}},\"id\":\"2a3df459-fb35-4894-a6ae-721b0a6d586c\",\"type\":\"Rect\"},{\"attributes\":{\"data_source\":{\"id\":\"f614083e-7c3f-4163-8bce-4ca43ed42ee9\",\"type\":\"ColumnDataSource\"},\"glyph\":{\"id\":\"b50c3f9d-4d56-42dd-9a7a-8a519cc392dd\",\"type\":\"Rect\"},\"hover_glyph\":null,\"nonselection_glyph\":null,\"selection_glyph\":null},\"id\":\"28d76a84-da91-4c1e-84a0-36e66c824f00\",\"type\":\"GlyphRenderer\"},{\"attributes\":{\"label\":{\"value\":\"2015-04-10\"},\"renderers\":[{\"id\":\"3f20c244-c9e7-4215-a5d2-6990cc86e596\",\"type\":\"GlyphRenderer\"}]},\"id\":\"d36acc3f-0e26-4869-b7d5-3156b5dafe70\",\"type\":\"LegendItem\"},{\"attributes\":{\"callback\":null,\"column_names\":[\"line_color\",\"line_alpha\",\"color\",\"fill_alpha\",\"height\",\"width\",\"y\",\"x\",\"label\"],\"data\":{\"chart_index\":[{\"date\":1446764400000.0}],\"color\":[\"#f22c40\"],\"date\":[1446764400000.0],\"fill_alpha\":[0.8],\"height\":[8.0],\"label\":[{\"date\":1446764400000.0}],\"line_alpha\":[1.0],\"line_color\":[\"white\"],\"width\":[0.8],\"x\":[\"2015-11-06\"],\"y\":[4.0]}},\"id\":\"8c764ba0-257d-4e98-aa69-cb22a7ec497c\",\"type\":\"ColumnDataSource\"},{\"attributes\":{\"label\":{\"value\":\"2015-07-31\"},\"renderers\":[{\"id\":\"c9c8e6d9-9ceb-4838-bcd3-571d262c2d9e\",\"type\":\"GlyphRenderer\"}]},\"id\":\"2917d117-c38d-47ca-acec-516a31470b87\",\"type\":\"LegendItem\"},{\"attributes\":{\"fill_alpha\":{\"field\":\"fill_alpha\"},\"fill_color\":{\"field\":\"color\"},\"height\":{\"field\":\"height\",\"units\":\"data\"},\"line_color\":{\"field\":\"line_color\"},\"width\":{\"field\":\"width\",\"units\":\"data\"},\"x\":{\"field\":\"x\"},\"y\":{\"field\":\"y\"}},\"id\":\"312c0e82-6d47-48a6-a86c-a8bfcd641f96\",\"type\":\"Rect\"},{\"attributes\":{\"label\":{\"value\":\"2015-05-22\"},\"renderers\":[{\"id\":\"f082cca7-a94d-4c45-8bc4-54708f2e26e7\",\"type\":\"GlyphRenderer\"}]},\"id\":\"1de8cb35-852e-44ff-be0a-77e2f362ccdd\",\"type\":\"LegendItem\"},{\"attributes\":{\"data_source\":{\"id\":\"bfd90f14-eed3-4c7b-b1fe-65082916d843\",\"type\":\"ColumnDataSource\"},\"glyph\":{\"id\":\"1eca9a79-af36-4734-a9e3-55fd6af06661\",\"type\":\"Rect\"},\"hover_glyph\":null,\"nonselection_glyph\":null,\"selection_glyph\":null},\"id\":\"7aff869f-206b-462f-a467-f9f4e8c54872\",\"type\":\"GlyphRenderer\"},{\"attributes\":{\"callback\":null,\"column_names\":[\"line_color\",\"line_alpha\",\"color\",\"fill_alpha\",\"height\",\"width\",\"y\",\"x\",\"label\"],\"data\":{\"chart_index\":[{\"date\":1447369200000.0}],\"color\":[\"#f22c40\"],\"date\":[1447369200000.0],\"fill_alpha\":[0.8],\"height\":[2.0],\"label\":[{\"date\":1447369200000.0}],\"line_alpha\":[1.0],\"line_color\":[\"white\"],\"width\":[0.8],\"x\":[\"2015-11-13\"],\"y\":[1.0]}},\"id\":\"e29c2785-f222-48b3-9779-66bd15adadc0\",\"type\":\"ColumnDataSource\"},{\"attributes\":{\"fill_alpha\":{\"field\":\"fill_alpha\"},\"fill_color\":{\"field\":\"color\"},\"height\":{\"field\":\"height\",\"units\":\"data\"},\"line_color\":{\"field\":\"line_color\"},\"width\":{\"field\":\"width\",\"units\":\"data\"},\"x\":{\"field\":\"x\"},\"y\":{\"field\":\"y\"}},\"id\":\"eee3684e-8175-40f7-8e5a-5e16098608b0\",\"type\":\"Rect\"},{\"attributes\":{\"callback\":null,\"column_names\":[\"line_color\",\"line_alpha\",\"color\",\"fill_alpha\",\"height\",\"width\",\"y\",\"x\",\"label\"],\"data\":{\"chart_index\":[{\"date\":1420758000000.0}],\"color\":[\"#f22c40\"],\"date\":[1420758000000.0],\"fill_alpha\":[0.8],\"height\":[3.0],\"label\":[{\"date\":1420758000000.0}],\"line_alpha\":[1.0],\"line_color\":[\"white\"],\"width\":[0.8],\"x\":[\"2015-01-09\"],\"y\":[1.5]}},\"id\":\"d3a93176-4e22-4850-97fd-8d034f1d369b\",\"type\":\"ColumnDataSource\"},{\"attributes\":{\"label\":{\"value\":\"2015-02-06\"},\"renderers\":[{\"id\":\"1dbc584d-fcdd-4662-9066-1613ef96c67d\",\"type\":\"GlyphRenderer\"}]},\"id\":\"8d234c45-5906-4cb3-b6f9-fd8f45bc26f7\",\"type\":\"LegendItem\"},{\"attributes\":{\"fill_alpha\":{\"field\":\"fill_alpha\"},\"fill_color\":{\"field\":\"color\"},\"height\":{\"field\":\"height\",\"units\":\"data\"},\"line_color\":{\"field\":\"line_color\"},\"width\":{\"field\":\"width\",\"units\":\"data\"},\"x\":{\"field\":\"x\"},\"y\":{\"field\":\"y\"}},\"id\":\"5b16caf3-563e-42fb-b811-05d58408dcb3\",\"type\":\"Rect\"},{\"attributes\":{\"label\":{\"value\":\"2015-10-02\"},\"renderers\":[{\"id\":\"95c949f2-29ff-4229-9aa5-bad1cc3d277e\",\"type\":\"GlyphRenderer\"}]},\"id\":\"3e25395c-6e53-4faf-851e-3979fb2ddfa7\",\"type\":\"LegendItem\"},{\"attributes\":{\"data_source\":{\"id\":\"6f7f22fc-35b6-4a3f-9f51-fa9724c63082\",\"type\":\"ColumnDataSource\"},\"glyph\":{\"id\":\"785b050e-93ab-494e-b1e3-42099de827d6\",\"type\":\"Rect\"},\"hover_glyph\":null,\"nonselection_glyph\":null,\"selection_glyph\":null},\"id\":\"add484a6-c1b9-4ff8-82c2-836cebec059f\",\"type\":\"GlyphRenderer\"},{\"attributes\":{\"label\":{\"value\":\"2015-09-04\"},\"renderers\":[{\"id\":\"32926894-394f-4add-a6a0-1e4ea9c4a023\",\"type\":\"GlyphRenderer\"}]},\"id\":\"7f870abd-341a-41df-94c3-562031a83eed\",\"type\":\"LegendItem\"},{\"attributes\":{\"callback\":null,\"column_names\":[\"line_color\",\"line_alpha\",\"color\",\"fill_alpha\",\"height\",\"width\",\"y\",\"x\",\"label\"],\"data\":{\"chart_index\":[{\"date\":1437688800000.0}],\"color\":[\"#f22c40\"],\"date\":[1437688800000.0],\"fill_alpha\":[0.8],\"height\":[0.0],\"label\":[{\"date\":1437688800000.0}],\"line_alpha\":[1.0],\"line_color\":[\"white\"],\"width\":[0.8],\"x\":[\"2015-07-24\"],\"y\":[0.0]}},\"id\":\"8b0b9d0e-2679-45e5-a267-d18b4fbae0f0\",\"type\":\"ColumnDataSource\"},{\"attributes\":{\"callback\":null,\"column_names\":[\"line_color\",\"line_alpha\",\"color\",\"fill_alpha\",\"height\",\"width\",\"y\",\"x\",\"label\"],\"data\":{\"chart_index\":[{\"date\":1435269600000.0}],\"color\":[\"#f22c40\"],\"date\":[1435269600000.0],\"fill_alpha\":[0.8],\"height\":[0.0],\"label\":[{\"date\":1435269600000.0}],\"line_alpha\":[1.0],\"line_color\":[\"white\"],\"width\":[0.8],\"x\":[\"2015-06-26\"],\"y\":[0.0]}},\"id\":\"f614083e-7c3f-4163-8bce-4ca43ed42ee9\",\"type\":\"ColumnDataSource\"},{\"attributes\":{\"fill_alpha\":{\"field\":\"fill_alpha\"},\"fill_color\":{\"field\":\"color\"},\"height\":{\"field\":\"height\",\"units\":\"data\"},\"line_color\":{\"field\":\"line_color\"},\"width\":{\"field\":\"width\",\"units\":\"data\"},\"x\":{\"field\":\"x\"},\"y\":{\"field\":\"y\"}},\"id\":\"a96bd9ae-a4a6-43a5-a94f-48059c05d47c\",\"type\":\"Rect\"},{\"attributes\":{\"data_source\":{\"id\":\"d0df64ea-9e66-41f7-90c8-17e5c1b4cd99\",\"type\":\"ColumnDataSource\"},\"glyph\":{\"id\":\"bded870d-07c5-493e-8de3-a258fc74c117\",\"type\":\"Rect\"},\"hover_glyph\":null,\"nonselection_glyph\":null,\"selection_glyph\":null},\"id\":\"84e0abd3-06bc-4518-b9ec-36d6951eb71c\",\"type\":\"GlyphRenderer\"},{\"attributes\":{\"axis_label\":\"Sum( Contr )\",\"formatter\":{\"id\":\"1e54f64e-ae53-40ab-847c-8c05078acba2\",\"type\":\"BasicTickFormatter\"},\"plot\":{\"id\":\"04787d6d-3008-4576-87ae-d4e453f6aa39\",\"subtype\":\"Chart\",\"type\":\"Plot\"},\"ticker\":{\"id\":\"3e76b38d-ce0c-4219-ba00-d3bd7cf5eac5\",\"type\":\"BasicTicker\"}},\"id\":\"4bef5680-d6e1-43e1-9813-056f5493def6\",\"type\":\"LinearAxis\"},{\"attributes\":{\"fill_alpha\":{\"field\":\"fill_alpha\"},\"fill_color\":{\"field\":\"color\"},\"height\":{\"field\":\"height\",\"units\":\"data\"},\"line_color\":{\"field\":\"line_color\"},\"width\":{\"field\":\"width\",\"units\":\"data\"},\"x\":{\"field\":\"x\"},\"y\":{\"field\":\"y\"}},\"id\":\"ad2e7488-e481-4509-8599-7ae35804deb8\",\"type\":\"Rect\"},{\"attributes\":{\"fill_alpha\":{\"field\":\"fill_alpha\"},\"fill_color\":{\"field\":\"color\"},\"height\":{\"field\":\"height\",\"units\":\"data\"},\"line_color\":{\"field\":\"line_color\"},\"width\":{\"field\":\"width\",\"units\":\"data\"},\"x\":{\"field\":\"x\"},\"y\":{\"field\":\"y\"}},\"id\":\"29254a6c-f775-4677-a17b-0f9a6b1073d2\",\"type\":\"Rect\"},{\"attributes\":{\"fill_alpha\":{\"field\":\"fill_alpha\"},\"fill_color\":{\"field\":\"color\"},\"height\":{\"field\":\"height\",\"units\":\"data\"},\"line_color\":{\"field\":\"line_color\"},\"width\":{\"field\":\"width\",\"units\":\"data\"},\"x\":{\"field\":\"x\"},\"y\":{\"field\":\"y\"}},\"id\":\"e3545484-0cdd-457e-b407-d6d7063b70ca\",\"type\":\"Rect\"},{\"attributes\":{},\"id\":\"bb3c9b29-7f80-4da0-8ea0-abdac5de6b38\",\"type\":\"CategoricalTickFormatter\"},{\"attributes\":{\"data_source\":{\"id\":\"4c58ae6f-a291-447d-abad-3b3fc076c4cb\",\"type\":\"ColumnDataSource\"},\"glyph\":{\"id\":\"1b6be01c-7512-4ed9-bcb4-6bceeccadd5d\",\"type\":\"Rect\"},\"hover_glyph\":null,\"nonselection_glyph\":null,\"selection_glyph\":null},\"id\":\"5aef8eda-dcf3-4664-9368-14e5589b27ef\",\"type\":\"GlyphRenderer\"},{\"attributes\":{\"data_source\":{\"id\":\"d3a93176-4e22-4850-97fd-8d034f1d369b\",\"type\":\"ColumnDataSource\"},\"glyph\":{\"id\":\"2cd19808-c154-49cc-9365-d4562d6290ea\",\"type\":\"Rect\"},\"hover_glyph\":null,\"nonselection_glyph\":null,\"selection_glyph\":null},\"id\":\"4decea97-1e08-4e43-b87a-f2f57e9545a8\",\"type\":\"GlyphRenderer\"},{\"attributes\":{\"label\":{\"value\":\"2015-06-26\"},\"renderers\":[{\"id\":\"28d76a84-da91-4c1e-84a0-36e66c824f00\",\"type\":\"GlyphRenderer\"}]},\"id\":\"66e8a390-7ad6-4a6c-95f8-959e7298f985\",\"type\":\"LegendItem\"},{\"attributes\":{\"label\":{\"value\":\"2015-06-05\"},\"renderers\":[{\"id\":\"f5b898bd-b673-4630-b4c1-fe3483015a8b\",\"type\":\"GlyphRenderer\"}]},\"id\":\"55c7702c-454f-45c9-b44b-0236a9530d22\",\"type\":\"LegendItem\"},{\"attributes\":{\"label\":{\"value\":\"2014-12-12\"},\"renderers\":[{\"id\":\"f6b32bcd-97ba-499a-9a4e-f72ee007eae1\",\"type\":\"GlyphRenderer\"}]},\"id\":\"a40d143c-3024-4083-b382-7dd248f9fc7e\",\"type\":\"LegendItem\"},{\"attributes\":{\"data_source\":{\"id\":\"6a7ac076-6e8c-4ac8-9bed-751c95e772e0\",\"type\":\"ColumnDataSource\"},\"glyph\":{\"id\":\"9806054a-97e3-4673-8410-aa0e1b24321a\",\"type\":\"Rect\"},\"hover_glyph\":null,\"nonselection_glyph\":null,\"selection_glyph\":null},\"id\":\"d25f89ef-0b3e-41c3-a262-21ac372ddacc\",\"type\":\"GlyphRenderer\"},{\"attributes\":{\"callback\":null,\"column_names\":[\"line_color\",\"line_alpha\",\"color\",\"fill_alpha\",\"height\",\"width\",\"y\",\"x\",\"label\"],\"data\":{\"chart_index\":[{\"date\":1429221600000.0}],\"color\":[\"#f22c40\"],\"date\":[1429221600000.0],\"fill_alpha\":[0.8],\"height\":[0.0],\"label\":[{\"date\":1429221600000.0}],\"line_alpha\":[1.0],\"line_color\":[\"white\"],\"width\":[0.8],\"x\":[\"2015-04-17\"],\"y\":[0.0]}},\"id\":\"59236c25-2758-4f04-9808-a8baedf58a90\",\"type\":\"ColumnDataSource\"},{\"attributes\":{\"callback\":null,\"column_names\":[\"line_color\",\"line_alpha\",\"color\",\"fill_alpha\",\"height\",\"width\",\"y\",\"x\",\"label\"],\"data\":{\"chart_index\":[{\"date\":1429826400000.0}],\"color\":[\"#f22c40\"],\"date\":[1429826400000.0],\"fill_alpha\":[0.8],\"height\":[0.0],\"label\":[{\"date\":1429826400000.0}],\"line_alpha\":[1.0],\"line_color\":[\"white\"],\"width\":[0.8],\"x\":[\"2015-04-24\"],\"y\":[0.0]}},\"id\":\"6f7f22fc-35b6-4a3f-9f51-fa9724c63082\",\"type\":\"ColumnDataSource\"},{\"attributes\":{\"callback\":null,\"column_names\":[\"line_color\",\"line_alpha\",\"color\",\"fill_alpha\",\"height\",\"width\",\"y\",\"x\",\"label\"],\"data\":{\"chart_index\":[{\"date\":1424386800000.0}],\"color\":[\"#f22c40\"],\"date\":[1424386800000.0],\"fill_alpha\":[0.8],\"height\":[0.0],\"label\":[{\"date\":1424386800000.0}],\"line_alpha\":[1.0],\"line_color\":[\"white\"],\"width\":[0.8],\"x\":[\"2015-02-20\"],\"y\":[0.0]}},\"id\":\"a12e8c37-58f8-4a6f-b310-032d9d769595\",\"type\":\"ColumnDataSource\"},{\"attributes\":{\"fill_alpha\":{\"field\":\"fill_alpha\"},\"fill_color\":{\"field\":\"color\"},\"height\":{\"field\":\"height\",\"units\":\"data\"},\"line_color\":{\"field\":\"line_color\"},\"width\":{\"field\":\"width\",\"units\":\"data\"},\"x\":{\"field\":\"x\"},\"y\":{\"field\":\"y\"}},\"id\":\"2cd19808-c154-49cc-9365-d4562d6290ea\",\"type\":\"Rect\"},{\"attributes\":{\"callback\":null,\"column_names\":[\"line_color\",\"line_alpha\",\"color\",\"fill_alpha\",\"height\",\"width\",\"y\",\"x\",\"label\"],\"data\":{\"chart_index\":[{\"date\":1417129200000.0}],\"color\":[\"#f22c40\"],\"date\":[1417129200000.0],\"fill_alpha\":[0.8],\"height\":[3.0],\"label\":[{\"date\":1417129200000.0}],\"line_alpha\":[1.0],\"line_color\":[\"white\"],\"width\":[0.8],\"x\":[\"2014-11-28\"],\"y\":[1.5]}},\"id\":\"ebd45561-e2c7-451c-9b44-d0b1c039c20d\",\"type\":\"ColumnDataSource\"},{\"attributes\":{\"fill_alpha\":{\"field\":\"fill_alpha\"},\"fill_color\":{\"field\":\"color\"},\"height\":{\"field\":\"height\",\"units\":\"data\"},\"line_color\":{\"field\":\"line_color\"},\"width\":{\"field\":\"width\",\"units\":\"data\"},\"x\":{\"field\":\"x\"},\"y\":{\"field\":\"y\"}},\"id\":\"e3c34d8f-8efc-43c0-b688-b99b5ed0595d\",\"type\":\"Rect\"},{\"attributes\":{\"plot\":null,\"text\":\"Number of contributions per week\"},\"id\":\"a43a72d1-a06f-4894-802c-57261af45084\",\"type\":\"Title\"},{\"attributes\":{\"overlay\":{\"id\":\"a2b3e4da-fa9f-40c8-8d87-08f84e7d5730\",\"type\":\"BoxAnnotation\"},\"plot\":{\"id\":\"04787d6d-3008-4576-87ae-d4e453f6aa39\",\"subtype\":\"Chart\",\"type\":\"Plot\"}},\"id\":\"25f24d16-78f3-4ace-a7c5-4f1e95a7ba91\",\"type\":\"BoxZoomTool\"},{\"attributes\":{\"axis_label\":\"Date\",\"formatter\":{\"id\":\"bb3c9b29-7f80-4da0-8ea0-abdac5de6b38\",\"type\":\"CategoricalTickFormatter\"},\"major_label_orientation\":0.7853981633974483,\"plot\":{\"id\":\"04787d6d-3008-4576-87ae-d4e453f6aa39\",\"subtype\":\"Chart\",\"type\":\"Plot\"},\"ticker\":{\"id\":\"3c2a1e84-2932-44bc-8756-10055adcc2c5\",\"type\":\"CategoricalTicker\"}},\"id\":\"bb78dbfb-c59c-48ab-89e0-cdb8cb8af4b3\",\"type\":\"CategoricalAxis\"},{\"attributes\":{\"label\":{\"value\":\"2015-05-01\"},\"renderers\":[{\"id\":\"d25f89ef-0b3e-41c3-a262-21ac372ddacc\",\"type\":\"GlyphRenderer\"}]},\"id\":\"1fb2ce4a-ef34-4b2f-ba3b-48294ffd523a\",\"type\":\"LegendItem\"},{\"attributes\":{\"data_source\":{\"id\":\"c48cd2c4-a68a-4063-a6a1-a990d2ec561f\",\"type\":\"ColumnDataSource\"},\"glyph\":{\"id\":\"5b16caf3-563e-42fb-b811-05d58408dcb3\",\"type\":\"Rect\"},\"hover_glyph\":null,\"nonselection_glyph\":null,\"selection_glyph\":null},\"id\":\"1dbc584d-fcdd-4662-9066-1613ef96c67d\",\"type\":\"GlyphRenderer\"},{\"attributes\":{\"callback\":null,\"column_names\":[\"line_color\",\"line_alpha\",\"color\",\"fill_alpha\",\"height\",\"width\",\"y\",\"x\",\"label\"],\"data\":{\"chart_index\":[{\"date\":1446159600000.0}],\"color\":[\"#f22c40\"],\"date\":[1446159600000.0],\"fill_alpha\":[0.8],\"height\":[3.0],\"label\":[{\"date\":1446159600000.0}],\"line_alpha\":[1.0],\"line_color\":[\"white\"],\"width\":[0.8],\"x\":[\"2015-10-30\"],\"y\":[1.5]}},\"id\":\"c6ba0f03-cc19-4f87-93ff-a6d1be004765\",\"type\":\"ColumnDataSource\"},{\"attributes\":{\"data_source\":{\"id\":\"63ed5564-dbbf-4468-9ff0-7a8db0354654\",\"type\":\"ColumnDataSource\"},\"glyph\":{\"id\":\"55fa8ebe-ba06-4023-be97-84f7265591a0\",\"type\":\"Rect\"},\"hover_glyph\":null,\"nonselection_glyph\":null,\"selection_glyph\":null},\"id\":\"199740a9-b982-49a3-a4ae-3cdf4092ea8c\",\"type\":\"GlyphRenderer\"},{\"attributes\":{\"data_source\":{\"id\":\"8f99d9f8-52d4-41d6-935b-efa7e6e5eeb2\",\"type\":\"ColumnDataSource\"},\"glyph\":{\"id\":\"169263ad-ffde-4c8e-a23b-e8c2785c0919\",\"type\":\"Rect\"},\"hover_glyph\":null,\"nonselection_glyph\":null,\"selection_glyph\":null},\"id\":\"22e96fe5-f224-4c6e-9526-04c28008d59b\",\"type\":\"GlyphRenderer\"},{\"attributes\":{\"callback\":null,\"column_names\":[\"line_color\",\"line_alpha\",\"color\",\"fill_alpha\",\"height\",\"width\",\"y\",\"x\",\"label\"],\"data\":{\"chart_index\":[{\"date\":1425596400000.0}],\"color\":[\"#f22c40\"],\"date\":[1425596400000.0],\"fill_alpha\":[0.8],\"height\":[0.0],\"label\":[{\"date\":1425596400000.0}],\"line_alpha\":[1.0],\"line_color\":[\"white\"],\"width\":[0.8],\"x\":[\"2015-03-06\"],\"y\":[0.0]}},\"id\":\"4a53fa25-5a1b-4807-92bf-f1a6ed6f847e\",\"type\":\"ColumnDataSource\"},{\"attributes\":{\"fill_alpha\":{\"field\":\"fill_alpha\"},\"fill_color\":{\"field\":\"color\"},\"height\":{\"field\":\"height\",\"units\":\"data\"},\"line_color\":{\"field\":\"line_color\"},\"width\":{\"field\":\"width\",\"units\":\"data\"},\"x\":{\"field\":\"x\"},\"y\":{\"field\":\"y\"}},\"id\":\"b270d164-413b-418f-8a78-a06ab7461f24\",\"type\":\"Rect\"},{\"attributes\":{\"fill_alpha\":{\"field\":\"fill_alpha\"},\"fill_color\":{\"field\":\"color\"},\"height\":{\"field\":\"height\",\"units\":\"data\"},\"line_color\":{\"field\":\"line_color\"},\"width\":{\"field\":\"width\",\"units\":\"data\"},\"x\":{\"field\":\"x\"},\"y\":{\"field\":\"y\"}},\"id\":\"a93c7a6f-ff94-497d-95bb-114629ebae29\",\"type\":\"Rect\"},{\"attributes\":{\"data_source\":{\"id\":\"a2d964b9-92eb-48d9-8d4e-84b063383094\",\"type\":\"ColumnDataSource\"},\"glyph\":{\"id\":\"451cbe58-8caa-43e7-9816-5c02e340b9c1\",\"type\":\"Rect\"},\"hover_glyph\":null,\"nonselection_glyph\":null,\"selection_glyph\":null},\"id\":\"aa7a0687-6272-4c74-9bd1-30b5780e2235\",\"type\":\"GlyphRenderer\"},{\"attributes\":{\"data_source\":{\"id\":\"e29c2785-f222-48b3-9779-66bd15adadc0\",\"type\":\"ColumnDataSource\"},\"glyph\":{\"id\":\"35a45500-5dcb-44e9-a631-35b4d80ee01c\",\"type\":\"Rect\"},\"hover_glyph\":null,\"nonselection_glyph\":null,\"selection_glyph\":null},\"id\":\"6e954c02-e8fa-4a79-9e50-9103244007a1\",\"type\":\"GlyphRenderer\"},{\"attributes\":{\"fill_alpha\":{\"field\":\"fill_alpha\"},\"fill_color\":{\"field\":\"color\"},\"height\":{\"field\":\"height\",\"units\":\"data\"},\"line_color\":{\"field\":\"line_color\"},\"width\":{\"field\":\"width\",\"units\":\"data\"},\"x\":{\"field\":\"x\"},\"y\":{\"field\":\"y\"}},\"id\":\"7c5c4671-7d48-43fb-8d93-a17ecc43c891\",\"type\":\"Rect\"},{\"attributes\":{\"label\":{\"value\":\"2015-11-06\"},\"renderers\":[{\"id\":\"881f2bd5-4fdb-4e00-9073-ab0e17ed83e0\",\"type\":\"GlyphRenderer\"}]},\"id\":\"fcf21e65-4c30-4aab-b54e-0af655fe7357\",\"type\":\"LegendItem\"},{\"attributes\":{\"data_source\":{\"id\":\"2d394d89-c7b7-471f-9d23-b3a00c4c21b0\",\"type\":\"ColumnDataSource\"},\"glyph\":{\"id\":\"80c89287-afca-47b1-9822-23d6cbe821f8\",\"type\":\"Rect\"},\"hover_glyph\":null,\"nonselection_glyph\":null,\"selection_glyph\":null},\"id\":\"cfe6efed-1a0f-4b62-84b2-a75a05590ba5\",\"type\":\"GlyphRenderer\"},{\"attributes\":{\"callback\":null,\"column_names\":[\"line_color\",\"line_alpha\",\"color\",\"fill_alpha\",\"height\",\"width\",\"y\",\"x\",\"label\"],\"data\":{\"chart_index\":[{\"date\":1431640800000.0}],\"color\":[\"#f22c40\"],\"date\":[1431640800000.0],\"fill_alpha\":[0.8],\"height\":[2.0],\"label\":[{\"date\":1431640800000.0}],\"line_alpha\":[1.0],\"line_color\":[\"white\"],\"width\":[0.8],\"x\":[\"2015-05-15\"],\"y\":[1.0]}},\"id\":\"f2b73861-1150-461c-b758-9488b2c22d24\",\"type\":\"ColumnDataSource\"},{\"attributes\":{\"label\":{\"value\":\"2015-05-29\"},\"renderers\":[{\"id\":\"cfe6efed-1a0f-4b62-84b2-a75a05590ba5\",\"type\":\"GlyphRenderer\"}]},\"id\":\"78c68008-7c5c-420d-a747-6e73bc5cfacb\",\"type\":\"LegendItem\"},{\"attributes\":{\"fill_alpha\":{\"field\":\"fill_alpha\"},\"fill_color\":{\"field\":\"color\"},\"height\":{\"field\":\"height\",\"units\":\"data\"},\"line_color\":{\"field\":\"line_color\"},\"width\":{\"field\":\"width\",\"units\":\"data\"},\"x\":{\"field\":\"x\"},\"y\":{\"field\":\"y\"}},\"id\":\"169263ad-ffde-4c8e-a23b-e8c2785c0919\",\"type\":\"Rect\"},{\"attributes\":{\"data_source\":{\"id\":\"f2b73861-1150-461c-b758-9488b2c22d24\",\"type\":\"ColumnDataSource\"},\"glyph\":{\"id\":\"9ab5077c-5725-45c6-8ab6-9d0acd77411e\",\"type\":\"Rect\"},\"hover_glyph\":null,\"nonselection_glyph\":null,\"selection_glyph\":null},\"id\":\"611bcfea-9984-47e1-9ac8-4c44ff81e8ac\",\"type\":\"GlyphRenderer\"},{\"attributes\":{\"label\":{\"value\":\"2015-03-27\"},\"renderers\":[{\"id\":\"14a4b102-ace6-4d1e-9e13-6df7f71c6ceb\",\"type\":\"GlyphRenderer\"}]},\"id\":\"a30946bd-b437-4973-947d-29be63495c31\",\"type\":\"LegendItem\"},{\"attributes\":{\"callback\":null,\"column_names\":[\"line_color\",\"line_alpha\",\"color\",\"fill_alpha\",\"height\",\"width\",\"y\",\"x\",\"label\"],\"data\":{\"chart_index\":[{\"date\":1423177200000.0}],\"color\":[\"#f22c40\"],\"date\":[1423177200000.0],\"fill_alpha\":[0.8],\"height\":[31.0],\"label\":[{\"date\":1423177200000.0}],\"line_alpha\":[1.0],\"line_color\":[\"white\"],\"width\":[0.8],\"x\":[\"2015-02-06\"],\"y\":[15.5]}},\"id\":\"c48cd2c4-a68a-4063-a6a1-a990d2ec561f\",\"type\":\"ColumnDataSource\"},{\"attributes\":{\"fill_alpha\":{\"field\":\"fill_alpha\"},\"fill_color\":{\"field\":\"color\"},\"height\":{\"field\":\"height\",\"units\":\"data\"},\"line_color\":{\"field\":\"line_color\"},\"width\":{\"field\":\"width\",\"units\":\"data\"},\"x\":{\"field\":\"x\"},\"y\":{\"field\":\"y\"}},\"id\":\"dda1fbfc-b23f-45ea-82c7-8a5a8eba8d90\",\"type\":\"Rect\"},{\"attributes\":{\"fill_alpha\":{\"field\":\"fill_alpha\"},\"fill_color\":{\"field\":\"color\"},\"height\":{\"field\":\"height\",\"units\":\"data\"},\"line_color\":{\"field\":\"line_color\"},\"width\":{\"field\":\"width\",\"units\":\"data\"},\"x\":{\"field\":\"x\"},\"y\":{\"field\":\"y\"}},\"id\":\"1b927e00-7a47-4d81-9ae6-308d8ee9db08\",\"type\":\"Rect\"},{\"attributes\":{\"plot\":{\"id\":\"04787d6d-3008-4576-87ae-d4e453f6aa39\",\"subtype\":\"Chart\",\"type\":\"Plot\"}},\"id\":\"aeb244a5-11e1-451e-afa4-d9768ddfbcbb\",\"type\":\"HelpTool\"},{\"attributes\":{\"callback\":null,\"column_names\":[\"line_color\",\"line_alpha\",\"color\",\"fill_alpha\",\"height\",\"width\",\"y\",\"x\",\"label\"],\"data\":{\"chart_index\":[{\"date\":1421967600000.0}],\"color\":[\"#f22c40\"],\"date\":[1421967600000.0],\"fill_alpha\":[0.8],\"height\":[1.0],\"label\":[{\"date\":1421967600000.0}],\"line_alpha\":[1.0],\"line_color\":[\"white\"],\"width\":[0.8],\"x\":[\"2015-01-23\"],\"y\":[0.5]}},\"id\":\"96bb7c3b-1712-468c-a0e3-778f52535b1c\",\"type\":\"ColumnDataSource\"},{\"attributes\":{\"label\":{\"value\":\"2015-01-02\"},\"renderers\":[{\"id\":\"21745bf3-2c4a-44eb-b741-e7d1a2e3a3a3\",\"type\":\"GlyphRenderer\"}]},\"id\":\"7856f1cd-3e65-4f9b-8650-65be0668db8d\",\"type\":\"LegendItem\"},{\"attributes\":{\"active_drag\":\"auto\",\"active_scroll\":\"auto\",\"active_tap\":\"auto\",\"tools\":[{\"id\":\"a1b0b37b-03bf-41ca-ae69-c2bf795bcaf0\",\"type\":\"PanTool\"},{\"id\":\"ae9e2d15-a072-4282-8618-f2c28700d17f\",\"type\":\"WheelZoomTool\"},{\"id\":\"25f24d16-78f3-4ace-a7c5-4f1e95a7ba91\",\"type\":\"BoxZoomTool\"},{\"id\":\"2f1b23e6-6337-46b2-9055-c88eb17675ce\",\"type\":\"SaveTool\"},{\"id\":\"ccf7eb9b-07bf-44e7-8a58-45853275c561\",\"type\":\"ResetTool\"},{\"id\":\"aeb244a5-11e1-451e-afa4-d9768ddfbcbb\",\"type\":\"HelpTool\"}]},\"id\":\"1a587e32-91fb-496a-9384-dbf778afc8cb\",\"type\":\"Toolbar\"}],\"root_ids\":[\"04787d6d-3008-4576-87ae-d4e453f6aa39\"]},\"title\":\"Bokeh Application\",\"version\":\"0.12.4\"}};\n",
       "            var render_items = [{\"docid\":\"e3906b1a-3266-458b-84de-386623b217d9\",\"elementid\":\"31670955-aaf0-47e5-8a90-d8bef0f37a78\",\"modelid\":\"04787d6d-3008-4576-87ae-d4e453f6aa39\"}];\n",
       "            \n",
       "            Bokeh.embed.embed_items(docs_json, render_items);\n",
       "          };\n",
       "          if (document.readyState != \"loading\") fn();\n",
       "          else document.addEventListener(\"DOMContentLoaded\", fn);\n",
       "        })();\n",
       "      },\n",
       "      function(Bokeh) {\n",
       "      }\n",
       "    ];\n",
       "  \n",
       "    function run_inline_js() {\n",
       "      \n",
       "      if ((window.Bokeh !== undefined) || (force === true)) {\n",
       "        for (var i = 0; i < inline_js.length; i++) {\n",
       "          inline_js[i](window.Bokeh);\n",
       "        }if (force === true) {\n",
       "          display_loaded();\n",
       "        }} else if (Date.now() < window._bokeh_timeout) {\n",
       "        setTimeout(run_inline_js, 100);\n",
       "      } else if (!window._bokeh_failed_load) {\n",
       "        console.log(\"Bokeh: BokehJS failed to load within specified timeout.\");\n",
       "        window._bokeh_failed_load = true;\n",
       "      } else if (force !== true) {\n",
       "        var cell = $(document.getElementById(\"31670955-aaf0-47e5-8a90-d8bef0f37a78\")).parents('.cell').data().cell;\n",
       "        cell.output_area.append_execute_result(NB_LOAD_WARNING)\n",
       "      }\n",
       "  \n",
       "    }\n",
       "  \n",
       "    if (window._bokeh_is_loading === 0) {\n",
       "      console.log(\"Bokeh: BokehJS loaded, going straight to plotting\");\n",
       "      run_inline_js();\n",
       "    } else {\n",
       "      load_libs(js_urls, function() {\n",
       "        console.log(\"Bokeh: BokehJS plotting callback run at\", now());\n",
       "        run_inline_js();\n",
       "      });\n",
       "    }\n",
       "  }(this));\n",
       "</script>"
      ]
     },
     "metadata": {},
     "output_type": "display_data"
    }
   ],
   "source": [
    "from bokeh.io import output_notebook\n",
    "from bokeh.charts import Bar, show\n",
    "\n",
    "output_notebook()\n",
    "p = Bar(df, \"date\", values=\"contr\", title=\"Number of contributions per week\")\n",
    "show(p)"
   ]
  },
  {
   "cell_type": "markdown",
   "metadata": {},
   "source": [
    "<h3>Q3. *extra credit* Are more commits into Mike's D3 repo done by him (the owner) or by others</h3>"
   ]
  },
  {
   "cell_type": "code",
   "execution_count": 31,
   "metadata": {
    "collapsed": false
   },
   "outputs": [
    {
     "name": "stdout",
     "output_type": "stream",
     "text": [
      "    contr  week  date_ord        date  owner_contr\n",
      "47     14    48    735894  2015-10-23           13\n",
      "48      3    49    735901  2015-10-30            3\n",
      "49      8    50    735908  2015-11-06            8\n",
      "50      2    51    735915  2015-11-13            2\n",
      "51      0    52    735922  2015-11-20            0\n"
     ]
    }
   ],
   "source": [
    "# Total contributions per week in the last 52 weeks by owner.\n",
    "# The array order is oldest week (index 0) to most recent week.\n",
    "df[\"owner_contr\"] =  data[u'owner']\n",
    "\n",
    "print df.tail()"
   ]
  },
  {
   "cell_type": "code",
   "execution_count": 32,
   "metadata": {
    "collapsed": false
   },
   "outputs": [
    {
     "name": "stdout",
     "output_type": "stream",
     "text": [
      "Total contributions by owner: 89\n",
      "Total contributions by others: 36\n"
     ]
    }
   ],
   "source": [
    "df[\"others_contr\"] = df[\"contr\"] - df[\"owner_contr\"]\n",
    "\n",
    "tot_owner = df[\"owner_contr\"].sum()\n",
    "tot_others = df[\"others_contr\"].sum()\n",
    "\n",
    "print \"Total contributions by owner: %s\" % tot_owner  # 71.2% of total\n",
    "print \"Total contributions by others: %s\" % tot_others  # 28.8% of total"
   ]
  },
  {
   "cell_type": "raw",
   "metadata": {},
   "source": [
    "More contributions are done by the owner Mike."
   ]
  },
  {
   "cell_type": "markdown",
   "metadata": {},
   "source": [
    "<h3>A3: The most commits into Mike's D3 repository are done by him rather than others.</h3>"
   ]
  },
  {
   "cell_type": "markdown",
   "metadata": {},
   "source": [
    "<h3>Q4. *extra credit* Visualise the commits by Mike versus others.<br></h3>"
   ]
  },
  {
   "cell_type": "code",
   "execution_count": 33,
   "metadata": {
    "collapsed": false
   },
   "outputs": [
    {
     "name": "stdout",
     "output_type": "stream",
     "text": [
      "          date  owner_contr  others_contr\n",
      "47  2015-10-23           13             1\n",
      "48  2015-10-30            3             0\n",
      "49  2015-11-06            8             0\n",
      "50  2015-11-13            2             0\n",
      "51  2015-11-20            0             0\n"
     ]
    }
   ],
   "source": [
    "# Visualisations.\n",
    "# Drop the unnecessary column.\n",
    "df2 = df.drop(\"date_ord\", 1)\n",
    "df3 = df2.drop(\"contr\", 1)\n",
    "df4 = df3.drop(\"week\", 1)\n",
    "print df4.tail()"
   ]
  },
  {
   "cell_type": "code",
   "execution_count": 34,
   "metadata": {
    "collapsed": false
   },
   "outputs": [
    {
     "data": {
      "text/plain": [
       "<matplotlib.text.Text at 0xe017438>"
      ]
     },
     "execution_count": 34,
     "metadata": {},
     "output_type": "execute_result"
    },
    {
     "data": {
      "image/png": "[encoded data removed]",
      "text/plain": [
       "<matplotlib.figure.Figure at 0xde485c0>"
      ]
     },
     "metadata": {},
     "output_type": "display_data"
    }
   ],
   "source": [
    "ax = df4.plot(kind=\"bar\", x=\"date\", stacked=True)\n",
    "ax.set_ylabel(\"number of contributions\")"
   ]
  },
  {
   "cell_type": "markdown",
   "metadata": {},
   "source": [
    "<h3>Q5. *extra credit* Over the last year, what day of the week had the most commits?</h3>"
   ]
  },
  {
   "cell_type": "code",
   "execution_count": 35,
   "metadata": {
    "collapsed": false
   },
   "outputs": [
    {
     "name": "stdout",
     "output_type": "stream",
     "text": [
      "sum          17\n",
      "day    Saturday\n",
      "Name: 6, dtype: object\n"
     ]
    }
   ],
   "source": [
    "# Load data; data are a list of 52 objects, each object with 3 keys.\n",
    "f = open(\"d3_commit_activity.txt\")\n",
    "data = json.load(f)  \n",
    "\n",
    "# Extract a list of numbers from the key u'days' in each object into a dictionary\n",
    "# for a DataFrame with 52 columns,\n",
    "# where each column has 7 rows,\n",
    "# where each row contains the number of commits per day of the week, starting on Sunday.\n",
    "def selecting():\n",
    "    my_dict = {}\n",
    "    counter = 0  # Column labels.\n",
    "    for each in data:\n",
    "        my_dict[counter] = each[u'days']\n",
    "        counter = counter + 1\n",
    "    return my_dict\n",
    "my_dict = selecting()\n",
    "df = pd.DataFrame(my_dict)\n",
    "\n",
    "# DataFrame with 2 columns and 7 rows of interest.\n",
    "df2 = pd.DataFrame()\n",
    "df2[\"sum\"] = df.sum(axis=1)  # Total number of commits per day in the last year.\n",
    "df2[\"day\"] = [\"Sunday\", \"Monday\", \"Tuedsday\", \"Wednesday\", \"Thursday\", \"Friday\", \"Saturday\"]\n",
    "\n",
    "# Find the day of the week with the highest number of contributions.\n",
    "max_contr_day_info = df2.loc[df2[\"sum\"].idxmax()]\n",
    "print max_contr_day_info"
   ]
  },
  {
   "cell_type": "markdown",
   "metadata": {},
   "source": [
    "<h3>A5. Over the last year, Saturday had the most commits.</h3>"
   ]
  },
  {
   "cell_type": "markdown",
   "metadata": {},
   "source": [
    "<h3>Q6. *extra credit* Visualise what day of the week had the most commits.</h3>"
   ]
  },
  {
   "cell_type": "code",
   "execution_count": 36,
   "metadata": {
    "collapsed": false
   },
   "outputs": [
    {
     "data": {
      "text/plain": [
       "<matplotlib.text.Text at 0xe9625f8>"
      ]
     },
     "execution_count": 36,
     "metadata": {},
     "output_type": "execute_result"
    },
    {
     "data": {
      "image/png": "[encoded data removed]",
      "text/plain": [
       "<matplotlib.figure.Figure at 0xe140c18>"
      ]
     },
     "metadata": {},
     "output_type": "display_data"
    }
   ],
   "source": [
    "ax = df2.plot(kind=\"bar\", x=\"day\", y=\"sum\", title=\"Number of contributions per day in the last year\")\n",
    "ax.set_ylabel(\"number of contributions\")"
   ]
  },
  {
   "cell_type": "code",
   "execution_count": null,
   "metadata": {
    "collapsed": true
   },
   "outputs": [],
   "source": []
  }
 ],
 "metadata": {
  "kernelspec": {
   "display_name": "Python 2",
   "language": "python",
   "name": "python2"
  },
  "language_info": {
   "codemirror_mode": {
    "name": "ipython",
    "version": 2
   },
   "file_extension": ".py",
   "mimetype": "text/x-python",
   "name": "python",
   "nbconvert_exporter": "python",
   "pygments_lexer": "ipython2",
   "version": "2.7.13"
  }
 },
 "nbformat": 4,
 "nbformat_minor": 0
}
